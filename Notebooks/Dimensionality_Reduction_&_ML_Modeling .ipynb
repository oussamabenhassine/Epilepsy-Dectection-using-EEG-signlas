{
 "cells": [
  {
   "cell_type": "code",
   "execution_count": 1,
   "metadata": {},
   "outputs": [],
   "source": [
    "import numpy as np \n",
    "import pandas as pd"
   ]
  },
  {
   "cell_type": "code",
   "execution_count": 2,
   "metadata": {},
   "outputs": [],
   "source": [
    "import os                         # for file locations\n",
    "import matplotlib.pyplot as plt   # for plotting\n",
    "import numpy as np                # arrays\n",
    "import pickle                     # saving python objects\n",
    "import pandas as pd               # dataframes\n",
    "\n",
    "\n",
    "\n",
    "# colours for printing outputs\n",
    "class color:\n",
    "   PURPLE = '\\033[95m'\n",
    "   CYAN = '\\033[96m'\n",
    "   DARKCYAN = '\\033[36m'\n",
    "   BLUE = '\\033[94m'\n",
    "   GREEN = '\\033[92m'\n",
    "   YELLOW = '\\033[93m'\n",
    "   RED = '\\033[91m'\n",
    "   BOLD = '\\033[1m'\n",
    "   UNDERLINE = '\\033[4m'\n",
    "   END = '\\033[0m'"
   ]
  },
  {
   "cell_type": "markdown",
   "metadata": {},
   "source": [
    "#  Data load"
   ]
  },
  {
   "cell_type": "code",
   "execution_count": 3,
   "metadata": {},
   "outputs": [
    {
     "data": {
      "text/html": [
       "<div>\n",
       "<style scoped>\n",
       "    .dataframe tbody tr th:only-of-type {\n",
       "        vertical-align: middle;\n",
       "    }\n",
       "\n",
       "    .dataframe tbody tr th {\n",
       "        vertical-align: top;\n",
       "    }\n",
       "\n",
       "    .dataframe thead th {\n",
       "        text-align: right;\n",
       "    }\n",
       "</style>\n",
       "<table border=\"1\" class=\"dataframe\">\n",
       "  <thead>\n",
       "    <tr style=\"text-align: right;\">\n",
       "      <th></th>\n",
       "      <th>FP1_power_delta</th>\n",
       "      <th>FP1_power_theta</th>\n",
       "      <th>FP1_power_alpha</th>\n",
       "      <th>FP1_power_beta</th>\n",
       "      <th>FP1_power_gamma</th>\n",
       "      <th>FP2_power_delta</th>\n",
       "      <th>FP2_power_theta</th>\n",
       "      <th>FP2_power_alpha</th>\n",
       "      <th>FP2_power_beta</th>\n",
       "      <th>FP2_power_gamma</th>\n",
       "      <th>...</th>\n",
       "      <th>T5_STD_D4</th>\n",
       "      <th>T5_STD_D5</th>\n",
       "      <th>T5_STD_D6</th>\n",
       "      <th>T6_STD_D1</th>\n",
       "      <th>T6_STD_D2</th>\n",
       "      <th>T6_STD_D3</th>\n",
       "      <th>T6_STD_D4</th>\n",
       "      <th>T6_STD_D5</th>\n",
       "      <th>T6_STD_D6</th>\n",
       "      <th>epileptic_</th>\n",
       "    </tr>\n",
       "  </thead>\n",
       "  <tbody>\n",
       "    <tr>\n",
       "      <th>0</th>\n",
       "      <td>15.980332</td>\n",
       "      <td>8.633358</td>\n",
       "      <td>3.092433</td>\n",
       "      <td>0.846559</td>\n",
       "      <td>0.372832</td>\n",
       "      <td>17.581626</td>\n",
       "      <td>9.937238</td>\n",
       "      <td>3.485713</td>\n",
       "      <td>0.945396</td>\n",
       "      <td>0.428797</td>\n",
       "      <td>...</td>\n",
       "      <td>31.427918</td>\n",
       "      <td>29.699413</td>\n",
       "      <td>32.013546</td>\n",
       "      <td>3.583559</td>\n",
       "      <td>12.529528</td>\n",
       "      <td>45.831132</td>\n",
       "      <td>61.890813</td>\n",
       "      <td>34.783454</td>\n",
       "      <td>33.245906</td>\n",
       "      <td>1</td>\n",
       "    </tr>\n",
       "    <tr>\n",
       "      <th>1</th>\n",
       "      <td>223.267803</td>\n",
       "      <td>41.573241</td>\n",
       "      <td>13.043525</td>\n",
       "      <td>6.463381</td>\n",
       "      <td>6.168712</td>\n",
       "      <td>298.274432</td>\n",
       "      <td>50.013025</td>\n",
       "      <td>14.411482</td>\n",
       "      <td>6.659230</td>\n",
       "      <td>4.942250</td>\n",
       "      <td>...</td>\n",
       "      <td>24.822720</td>\n",
       "      <td>47.185918</td>\n",
       "      <td>93.619195</td>\n",
       "      <td>14.158489</td>\n",
       "      <td>15.217886</td>\n",
       "      <td>30.927407</td>\n",
       "      <td>77.324322</td>\n",
       "      <td>153.442359</td>\n",
       "      <td>213.780950</td>\n",
       "      <td>1</td>\n",
       "    </tr>\n",
       "    <tr>\n",
       "      <th>2</th>\n",
       "      <td>158.673907</td>\n",
       "      <td>31.788608</td>\n",
       "      <td>9.956198</td>\n",
       "      <td>3.736977</td>\n",
       "      <td>2.926979</td>\n",
       "      <td>232.762741</td>\n",
       "      <td>39.332981</td>\n",
       "      <td>10.956081</td>\n",
       "      <td>3.478036</td>\n",
       "      <td>2.153082</td>\n",
       "      <td>...</td>\n",
       "      <td>21.708222</td>\n",
       "      <td>47.412375</td>\n",
       "      <td>85.729645</td>\n",
       "      <td>9.493639</td>\n",
       "      <td>11.824569</td>\n",
       "      <td>24.555772</td>\n",
       "      <td>59.229187</td>\n",
       "      <td>112.406306</td>\n",
       "      <td>171.618208</td>\n",
       "      <td>1</td>\n",
       "    </tr>\n",
       "    <tr>\n",
       "      <th>3</th>\n",
       "      <td>29.767326</td>\n",
       "      <td>3.875543</td>\n",
       "      <td>1.553127</td>\n",
       "      <td>0.438266</td>\n",
       "      <td>0.140495</td>\n",
       "      <td>45.206547</td>\n",
       "      <td>5.173542</td>\n",
       "      <td>2.028637</td>\n",
       "      <td>0.528962</td>\n",
       "      <td>0.161283</td>\n",
       "      <td>...</td>\n",
       "      <td>26.319506</td>\n",
       "      <td>39.628894</td>\n",
       "      <td>51.473202</td>\n",
       "      <td>1.872515</td>\n",
       "      <td>5.392639</td>\n",
       "      <td>17.296780</td>\n",
       "      <td>35.824586</td>\n",
       "      <td>44.892899</td>\n",
       "      <td>79.613460</td>\n",
       "      <td>1</td>\n",
       "    </tr>\n",
       "    <tr>\n",
       "      <th>4</th>\n",
       "      <td>33.821075</td>\n",
       "      <td>3.635210</td>\n",
       "      <td>1.347280</td>\n",
       "      <td>0.313205</td>\n",
       "      <td>0.080396</td>\n",
       "      <td>55.670043</td>\n",
       "      <td>4.925017</td>\n",
       "      <td>1.783729</td>\n",
       "      <td>0.394463</td>\n",
       "      <td>0.102254</td>\n",
       "      <td>...</td>\n",
       "      <td>26.111048</td>\n",
       "      <td>39.177537</td>\n",
       "      <td>52.925676</td>\n",
       "      <td>1.408291</td>\n",
       "      <td>4.556997</td>\n",
       "      <td>12.733549</td>\n",
       "      <td>25.676801</td>\n",
       "      <td>44.406617</td>\n",
       "      <td>94.770581</td>\n",
       "      <td>1</td>\n",
       "    </tr>\n",
       "    <tr>\n",
       "      <th>...</th>\n",
       "      <td>...</td>\n",
       "      <td>...</td>\n",
       "      <td>...</td>\n",
       "      <td>...</td>\n",
       "      <td>...</td>\n",
       "      <td>...</td>\n",
       "      <td>...</td>\n",
       "      <td>...</td>\n",
       "      <td>...</td>\n",
       "      <td>...</td>\n",
       "      <td>...</td>\n",
       "      <td>...</td>\n",
       "      <td>...</td>\n",
       "      <td>...</td>\n",
       "      <td>...</td>\n",
       "      <td>...</td>\n",
       "      <td>...</td>\n",
       "      <td>...</td>\n",
       "      <td>...</td>\n",
       "      <td>...</td>\n",
       "      <td>...</td>\n",
       "    </tr>\n",
       "    <tr>\n",
       "      <th>2211</th>\n",
       "      <td>93.573012</td>\n",
       "      <td>9.060520</td>\n",
       "      <td>4.980545</td>\n",
       "      <td>4.839014</td>\n",
       "      <td>2.402408</td>\n",
       "      <td>103.479883</td>\n",
       "      <td>10.121498</td>\n",
       "      <td>5.411378</td>\n",
       "      <td>5.112091</td>\n",
       "      <td>2.410508</td>\n",
       "      <td>...</td>\n",
       "      <td>28.420439</td>\n",
       "      <td>35.838353</td>\n",
       "      <td>55.575530</td>\n",
       "      <td>13.980452</td>\n",
       "      <td>15.455901</td>\n",
       "      <td>17.599760</td>\n",
       "      <td>35.736742</td>\n",
       "      <td>44.639277</td>\n",
       "      <td>52.441626</td>\n",
       "      <td>0</td>\n",
       "    </tr>\n",
       "    <tr>\n",
       "      <th>2212</th>\n",
       "      <td>15.523587</td>\n",
       "      <td>3.195279</td>\n",
       "      <td>1.268068</td>\n",
       "      <td>0.788076</td>\n",
       "      <td>0.350012</td>\n",
       "      <td>15.177286</td>\n",
       "      <td>3.420879</td>\n",
       "      <td>1.324339</td>\n",
       "      <td>0.772379</td>\n",
       "      <td>0.340149</td>\n",
       "      <td>...</td>\n",
       "      <td>25.567858</td>\n",
       "      <td>29.982968</td>\n",
       "      <td>19.842641</td>\n",
       "      <td>3.896454</td>\n",
       "      <td>4.507998</td>\n",
       "      <td>9.674004</td>\n",
       "      <td>29.642064</td>\n",
       "      <td>32.178907</td>\n",
       "      <td>23.513508</td>\n",
       "      <td>0</td>\n",
       "    </tr>\n",
       "    <tr>\n",
       "      <th>2213</th>\n",
       "      <td>17.580684</td>\n",
       "      <td>2.208482</td>\n",
       "      <td>0.512273</td>\n",
       "      <td>0.122671</td>\n",
       "      <td>0.042173</td>\n",
       "      <td>18.294247</td>\n",
       "      <td>2.380609</td>\n",
       "      <td>0.560150</td>\n",
       "      <td>0.132999</td>\n",
       "      <td>0.045041</td>\n",
       "      <td>...</td>\n",
       "      <td>15.186601</td>\n",
       "      <td>23.281200</td>\n",
       "      <td>31.479138</td>\n",
       "      <td>1.183803</td>\n",
       "      <td>2.253192</td>\n",
       "      <td>6.133507</td>\n",
       "      <td>18.810084</td>\n",
       "      <td>29.451244</td>\n",
       "      <td>40.868567</td>\n",
       "      <td>0</td>\n",
       "    </tr>\n",
       "    <tr>\n",
       "      <th>2214</th>\n",
       "      <td>35.847315</td>\n",
       "      <td>3.354388</td>\n",
       "      <td>2.280252</td>\n",
       "      <td>2.368355</td>\n",
       "      <td>1.217081</td>\n",
       "      <td>33.889844</td>\n",
       "      <td>3.048972</td>\n",
       "      <td>1.356364</td>\n",
       "      <td>1.159790</td>\n",
       "      <td>0.632721</td>\n",
       "      <td>...</td>\n",
       "      <td>20.376012</td>\n",
       "      <td>23.182715</td>\n",
       "      <td>24.117538</td>\n",
       "      <td>6.995231</td>\n",
       "      <td>6.819144</td>\n",
       "      <td>9.820588</td>\n",
       "      <td>26.620415</td>\n",
       "      <td>30.167641</td>\n",
       "      <td>31.778504</td>\n",
       "      <td>0</td>\n",
       "    </tr>\n",
       "    <tr>\n",
       "      <th>2215</th>\n",
       "      <td>26.299626</td>\n",
       "      <td>2.783714</td>\n",
       "      <td>1.020452</td>\n",
       "      <td>0.693122</td>\n",
       "      <td>0.328914</td>\n",
       "      <td>26.055785</td>\n",
       "      <td>2.918337</td>\n",
       "      <td>0.944078</td>\n",
       "      <td>0.491128</td>\n",
       "      <td>0.199761</td>\n",
       "      <td>...</td>\n",
       "      <td>21.973431</td>\n",
       "      <td>24.301343</td>\n",
       "      <td>21.518677</td>\n",
       "      <td>2.351333</td>\n",
       "      <td>3.269492</td>\n",
       "      <td>7.700107</td>\n",
       "      <td>25.207972</td>\n",
       "      <td>28.056602</td>\n",
       "      <td>37.080093</td>\n",
       "      <td>0</td>\n",
       "    </tr>\n",
       "  </tbody>\n",
       "</table>\n",
       "<p>2216 rows × 668 columns</p>\n",
       "</div>"
      ],
      "text/plain": [
       "      FP1_power_delta  FP1_power_theta  FP1_power_alpha  FP1_power_beta  \\\n",
       "0           15.980332         8.633358         3.092433        0.846559   \n",
       "1          223.267803        41.573241        13.043525        6.463381   \n",
       "2          158.673907        31.788608         9.956198        3.736977   \n",
       "3           29.767326         3.875543         1.553127        0.438266   \n",
       "4           33.821075         3.635210         1.347280        0.313205   \n",
       "...               ...              ...              ...             ...   \n",
       "2211        93.573012         9.060520         4.980545        4.839014   \n",
       "2212        15.523587         3.195279         1.268068        0.788076   \n",
       "2213        17.580684         2.208482         0.512273        0.122671   \n",
       "2214        35.847315         3.354388         2.280252        2.368355   \n",
       "2215        26.299626         2.783714         1.020452        0.693122   \n",
       "\n",
       "      FP1_power_gamma  FP2_power_delta  FP2_power_theta  FP2_power_alpha  \\\n",
       "0            0.372832        17.581626         9.937238         3.485713   \n",
       "1            6.168712       298.274432        50.013025        14.411482   \n",
       "2            2.926979       232.762741        39.332981        10.956081   \n",
       "3            0.140495        45.206547         5.173542         2.028637   \n",
       "4            0.080396        55.670043         4.925017         1.783729   \n",
       "...               ...              ...              ...              ...   \n",
       "2211         2.402408       103.479883        10.121498         5.411378   \n",
       "2212         0.350012        15.177286         3.420879         1.324339   \n",
       "2213         0.042173        18.294247         2.380609         0.560150   \n",
       "2214         1.217081        33.889844         3.048972         1.356364   \n",
       "2215         0.328914        26.055785         2.918337         0.944078   \n",
       "\n",
       "      FP2_power_beta  FP2_power_gamma  ...  T5_STD_D4  T5_STD_D5  T5_STD_D6  \\\n",
       "0           0.945396         0.428797  ...  31.427918  29.699413  32.013546   \n",
       "1           6.659230         4.942250  ...  24.822720  47.185918  93.619195   \n",
       "2           3.478036         2.153082  ...  21.708222  47.412375  85.729645   \n",
       "3           0.528962         0.161283  ...  26.319506  39.628894  51.473202   \n",
       "4           0.394463         0.102254  ...  26.111048  39.177537  52.925676   \n",
       "...              ...              ...  ...        ...        ...        ...   \n",
       "2211        5.112091         2.410508  ...  28.420439  35.838353  55.575530   \n",
       "2212        0.772379         0.340149  ...  25.567858  29.982968  19.842641   \n",
       "2213        0.132999         0.045041  ...  15.186601  23.281200  31.479138   \n",
       "2214        1.159790         0.632721  ...  20.376012  23.182715  24.117538   \n",
       "2215        0.491128         0.199761  ...  21.973431  24.301343  21.518677   \n",
       "\n",
       "      T6_STD_D1  T6_STD_D2  T6_STD_D3  T6_STD_D4   T6_STD_D5   T6_STD_D6  \\\n",
       "0      3.583559  12.529528  45.831132  61.890813   34.783454   33.245906   \n",
       "1     14.158489  15.217886  30.927407  77.324322  153.442359  213.780950   \n",
       "2      9.493639  11.824569  24.555772  59.229187  112.406306  171.618208   \n",
       "3      1.872515   5.392639  17.296780  35.824586   44.892899   79.613460   \n",
       "4      1.408291   4.556997  12.733549  25.676801   44.406617   94.770581   \n",
       "...         ...        ...        ...        ...         ...         ...   \n",
       "2211  13.980452  15.455901  17.599760  35.736742   44.639277   52.441626   \n",
       "2212   3.896454   4.507998   9.674004  29.642064   32.178907   23.513508   \n",
       "2213   1.183803   2.253192   6.133507  18.810084   29.451244   40.868567   \n",
       "2214   6.995231   6.819144   9.820588  26.620415   30.167641   31.778504   \n",
       "2215   2.351333   3.269492   7.700107  25.207972   28.056602   37.080093   \n",
       "\n",
       "      epileptic_  \n",
       "0              1  \n",
       "1              1  \n",
       "2              1  \n",
       "3              1  \n",
       "4              1  \n",
       "...          ...  \n",
       "2211           0  \n",
       "2212           0  \n",
       "2213           0  \n",
       "2214           0  \n",
       "2215           0  \n",
       "\n",
       "[2216 rows x 668 columns]"
      ]
     },
     "execution_count": 3,
     "metadata": {},
     "output_type": "execute_result"
    }
   ],
   "source": [
    "eeg_data=pd.read_csv('C:/Users/User/Desktop/eeg_data.csv')\n",
    "eeg_data"
   ]
  },
  {
   "cell_type": "code",
   "execution_count": 4,
   "metadata": {},
   "outputs": [
    {
     "data": {
      "text/plain": [
       "(2216, 668)"
      ]
     },
     "execution_count": 4,
     "metadata": {},
     "output_type": "execute_result"
    }
   ],
   "source": [
    "eeg_data.shape"
   ]
  },
  {
   "cell_type": "markdown",
   "metadata": {},
   "source": [
    "### Separate entries (features) and output (target)"
   ]
  },
  {
   "cell_type": "code",
   "execution_count": 9,
   "metadata": {},
   "outputs": [],
   "source": [
    "data_y=eeg_data['epileptic_']\n",
    "data_x=eeg_data.drop(columns=['epileptic_'])"
   ]
  },
  {
   "cell_type": "code",
   "execution_count": 10,
   "metadata": {},
   "outputs": [
    {
     "name": "stdout",
     "output_type": "stream",
     "text": [
      "\u001b[1mFeature DataFrame\u001b[0m\n"
     ]
    },
    {
     "data": {
      "text/plain": [
       "(2216, 667)"
      ]
     },
     "metadata": {},
     "output_type": "display_data"
    },
    {
     "name": "stdout",
     "output_type": "stream",
     "text": [
      "\u001b[1mTarget DataFrame\u001b[0m\n"
     ]
    },
    {
     "data": {
      "text/plain": [
       "(2216,)"
      ]
     },
     "metadata": {},
     "output_type": "display_data"
    }
   ],
   "source": [
    "print(color.BOLD+'Feature DataFrame'+color.END)\n",
    "display(data_x.shape)\n",
    "print(color.BOLD+'Target DataFrame'+color.END)\n",
    "display(data_y.shape)"
   ]
  },
  {
   "cell_type": "markdown",
   "metadata": {},
   "source": [
    "### Plot the number of patients in each class"
   ]
  },
  {
   "cell_type": "code",
   "execution_count": 104,
   "metadata": {},
   "outputs": [
    {
     "name": "stdout",
     "output_type": "stream",
     "text": [
      "The number of subjects for the non epileptic class is: 1196\n",
      "The number of trials for the epileptic class is: 1220\n"
     ]
    },
    {
     "name": "stderr",
     "output_type": "stream",
     "text": [
      "C:\\Users\\User\\anaconda3\\lib\\site-packages\\seaborn\\_decorators.py:36: FutureWarning: Pass the following variable as a keyword arg: x. From version 0.12, the only valid positional argument will be `data`, and passing other arguments without an explicit keyword will result in an error or misinterpretation.\n",
      "  warnings.warn(\n"
     ]
    },
    {
     "data": {
      "image/png": "[encoded data removed]",
      "text/plain": [
       "<Figure size 432x288 with 1 Axes>"
      ]
     },
     "metadata": {
      "needs_background": "light"
     },
     "output_type": "display_data"
    }
   ],
   "source": [
    "import seaborn as sns\n",
    "cols = eeg_data.columns\n",
    "tgt = eeg_data.epileptic_\n",
    "\n",
    "ax = sns.countplot(tgt,label=\"Count\")\n",
    "non_epil, epil = tgt.value_counts()\n",
    "print('The number of subjects for the non epileptic class is:', epil)\n",
    "print('The number of trials for the epileptic class is:', non_epil);"
   ]
  },
  {
   "cell_type": "markdown",
   "metadata": {},
   "source": [
    "### Divide the data into two sets: training and testing"
   ]
  },
  {
   "cell_type": "code",
   "execution_count": 110,
   "metadata": {},
   "outputs": [],
   "source": [
    "from sklearn.model_selection import train_test_split\n",
    "TEST_SIZE = 0.2\n",
    "RANDOM_STATE=0\n",
    "X_train, X_test, y_train, y_test = train_test_split(data_x, data_y,stratify=data_y,\n",
    "                                                    test_size=TEST_SIZE, \n",
    "                                                    random_state=RANDOM_STATE)"
   ]
  },
  {
   "cell_type": "code",
   "execution_count": 111,
   "metadata": {},
   "outputs": [
    {
     "name": "stdout",
     "output_type": "stream",
     "text": [
      "\u001b[1m\u001b[4mTraining DataFrame\u001b[0m\n"
     ]
    },
    {
     "data": {
      "text/html": [
       "<div>\n",
       "<style scoped>\n",
       "    .dataframe tbody tr th:only-of-type {\n",
       "        vertical-align: middle;\n",
       "    }\n",
       "\n",
       "    .dataframe tbody tr th {\n",
       "        vertical-align: top;\n",
       "    }\n",
       "\n",
       "    .dataframe thead th {\n",
       "        text-align: right;\n",
       "    }\n",
       "</style>\n",
       "<table border=\"1\" class=\"dataframe\">\n",
       "  <thead>\n",
       "    <tr style=\"text-align: right;\">\n",
       "      <th></th>\n",
       "      <th>Counts</th>\n",
       "      <th>Percent</th>\n",
       "    </tr>\n",
       "    <tr>\n",
       "      <th>Class_ID</th>\n",
       "      <th></th>\n",
       "      <th></th>\n",
       "    </tr>\n",
       "  </thead>\n",
       "  <tbody>\n",
       "    <tr>\n",
       "      <th>0</th>\n",
       "      <td>956</td>\n",
       "      <td>46.0</td>\n",
       "    </tr>\n",
       "    <tr>\n",
       "      <th>1</th>\n",
       "      <td>1136</td>\n",
       "      <td>54.0</td>\n",
       "    </tr>\n",
       "  </tbody>\n",
       "</table>\n",
       "</div>"
      ],
      "text/plain": [
       "          Counts  Percent\n",
       "Class_ID                 \n",
       "0            956     46.0\n",
       "1           1136     54.0"
      ]
     },
     "metadata": {},
     "output_type": "display_data"
    },
    {
     "name": "stdout",
     "output_type": "stream",
     "text": [
      "\u001b[1m\u001b[4m\n",
      "Test DataFrame\u001b[0m\n"
     ]
    },
    {
     "data": {
      "text/html": [
       "<div>\n",
       "<style scoped>\n",
       "    .dataframe tbody tr th:only-of-type {\n",
       "        vertical-align: middle;\n",
       "    }\n",
       "\n",
       "    .dataframe tbody tr th {\n",
       "        vertical-align: top;\n",
       "    }\n",
       "\n",
       "    .dataframe thead th {\n",
       "        text-align: right;\n",
       "    }\n",
       "</style>\n",
       "<table border=\"1\" class=\"dataframe\">\n",
       "  <thead>\n",
       "    <tr style=\"text-align: right;\">\n",
       "      <th></th>\n",
       "      <th>Counts</th>\n",
       "      <th>Percent</th>\n",
       "    </tr>\n",
       "    <tr>\n",
       "      <th>Class_ID</th>\n",
       "      <th></th>\n",
       "      <th></th>\n",
       "    </tr>\n",
       "  </thead>\n",
       "  <tbody>\n",
       "    <tr>\n",
       "      <th>0</th>\n",
       "      <td>240</td>\n",
       "      <td>46.0</td>\n",
       "    </tr>\n",
       "    <tr>\n",
       "      <th>1</th>\n",
       "      <td>284</td>\n",
       "      <td>54.0</td>\n",
       "    </tr>\n",
       "  </tbody>\n",
       "</table>\n",
       "</div>"
      ],
      "text/plain": [
       "          Counts  Percent\n",
       "Class_ID                 \n",
       "0            240     46.0\n",
       "1            284     54.0"
      ]
     },
     "metadata": {},
     "output_type": "display_data"
    }
   ],
   "source": [
    "def get_proportions(data):\n",
    "\n",
    "    counts = pd.DataFrame(np.unique(data, return_counts=True), index = ['Class_ID', 'Counts']).T\n",
    "    counts['Percent'] = (counts['Counts']/counts['Counts'].sum()).round(2)*100\n",
    "    counts = counts.set_index('Class_ID')\n",
    "    return counts\n",
    "\n",
    "    \n",
    "print(color.BOLD+color.UNDERLINE+'Training DataFrame'+color.END)\n",
    "display(get_proportions(y_train))\n",
    "#print(color.BOLD+color.UNDERLINE+'Validation DataFrame'+color.END)\n",
    "#display(get_proportions(y_val))\n",
    "print(color.BOLD+color.UNDERLINE+'\\nTest DataFrame'+color.END)\n",
    "display(get_proportions(y_test))"
   ]
  },
  {
   "cell_type": "markdown",
   "metadata": {},
   "source": [
    "### Scaling the data"
   ]
  },
  {
   "cell_type": "code",
   "execution_count": 112,
   "metadata": {},
   "outputs": [],
   "source": [
    "from sklearn.preprocessing import StandardScaler\n",
    "\n",
    "scaler = StandardScaler()\n",
    "X_train= scaler.fit_transform(X_train)\n",
    "X_test= scaler.transform(X_test)"
   ]
  },
  {
   "cell_type": "markdown",
   "metadata": {},
   "source": [
    "# Dimensionality_Reduction"
   ]
  },
  {
   "cell_type": "markdown",
   "metadata": {},
   "source": [
    "## 1) Feature Importances with Random Forests"
   ]
  },
  {
   "cell_type": "code",
   "execution_count": 113,
   "metadata": {},
   "outputs": [
    {
     "name": "stdout",
     "output_type": "stream",
     "text": [
      "Wall time: 27.3 s\n"
     ]
    }
   ],
   "source": [
    "%%time\n",
    "from sklearn.ensemble import RandomForestClassifier\n",
    "\n",
    "# create a forest classifier\n",
    "forest = RandomForestClassifier(criterion='gini',\n",
    "                                n_estimators=1000,\n",
    "                                max_features = 'sqrt',\n",
    "                                random_state=RANDOM_STATE,\n",
    "                                n_jobs=-1)\n",
    "\n",
    "# fit the classifier\n",
    "forest.fit(X_train, y_train)\n",
    "\n",
    "# get the importances for the features\n",
    "importances = forest.feature_importances_\n",
    "\n",
    "importances_series = pd.Series(importances,index=data_x.columns).sort_values(ascending = False)"
   ]
  },
  {
   "cell_type": "markdown",
   "metadata": {},
   "source": [
    "### Plot the top 30 features to see how they contributed."
   ]
  },
  {
   "cell_type": "code",
   "execution_count": 114,
   "metadata": {},
   "outputs": [
    {
     "data": {
      "image/png": "[encoded data removed]",
      "text/plain": [
       "<Figure size 1080x720 with 1 Axes>"
      ]
     },
     "metadata": {
      "needs_background": "light"
     },
     "output_type": "display_data"
    }
   ],
   "source": [
    "PLOT_LIMIT = 30\n",
    "\n",
    "# plot the important features\n",
    "plt.figure(figsize=(15,10))\n",
    "importances_series[:PLOT_LIMIT].plot.bar(legend =False, grid=False)\n",
    "plt.title('Feature Importances ('+str(PLOT_LIMIT)+'/'+str(len(importances_series))+')')\n",
    "\n",
    "plt.xticks(rotation=45,ha='right')\n",
    "plt.tight_layout()\n",
    "\n",
    "plt.savefig('forest_importances.png', dpi=300)\n",
    "plt.show()"
   ]
  },
  {
   "cell_type": "code",
   "execution_count": 115,
   "metadata": {},
   "outputs": [],
   "source": [
    "l=[]\n",
    "for s in importances_series.index:\n",
    "    l.append([s[:s.find(\"_\")],s[s.find(\"_\")+1:]])\n",
    "list_of_lists=l"
   ]
  },
  {
   "cell_type": "code",
   "execution_count": 116,
   "metadata": {},
   "outputs": [
    {
     "data": {
      "text/plain": [
       "channel  feature    \n",
       "A2       Mean_Abs_D6    0.020919\n",
       "A1       Mean_Abs_D6    0.018744\n",
       "A2       Mean_Abs_D5    0.015492\n",
       "T4       Mean_Abs_D5    0.013915\n",
       "A1       Mean_Abs_D5    0.013283\n",
       "dtype: float64"
      ]
     },
     "execution_count": 116,
     "metadata": {},
     "output_type": "execute_result"
    }
   ],
   "source": [
    "importances_multi_index = importances_series.copy()\n",
    "\n",
    "tuple_of_tuples = tuple(tuple(x) for x in list_of_lists)\n",
    "importances_multi_index.index = pd.MultiIndex.from_tuples(tuple_of_tuples)\n",
    "importances_multi_index.index.names = ['channel', 'feature']\n",
    "importances_multi_index.head()"
   ]
  },
  {
   "cell_type": "markdown",
   "metadata": {},
   "source": [
    "### Plot EEG channels that are contributing the most to classification"
   ]
  },
  {
   "cell_type": "code",
   "execution_count": 117,
   "metadata": {},
   "outputs": [
    {
     "data": {
      "image/png": "[encoded data removed]",
      "text/plain": [
       "<Figure size 1080x720 with 1 Axes>"
      ]
     },
     "metadata": {
      "needs_background": "light"
     },
     "output_type": "display_data"
    }
   ],
   "source": [
    "plt.figure(figsize=(15,10))\n",
    "\n",
    "importances_channel = importances_multi_index.groupby('channel').sum()\n",
    "importances_channel.sort_values(ascending = False).plot.bar(legend =False, grid=False)\n",
    "\n",
    "plt.title('Channel Importances ')\n",
    "\n",
    "plt.xticks(rotation=45,ha='right')\n",
    "plt.tight_layout()\n",
    "\n",
    "#plt.savefig(image_file_path, dpi=300)\n",
    "plt.show()"
   ]
  },
  {
   "cell_type": "markdown",
   "metadata": {},
   "source": [
    "#### List of the most contribued EEG channels"
   ]
  },
  {
   "cell_type": "code",
   "execution_count": 118,
   "metadata": {},
   "outputs": [],
   "source": [
    "importances_channel = importances_multi_index.groupby('channel').sum()"
   ]
  },
  {
   "cell_type": "code",
   "execution_count": 119,
   "metadata": {},
   "outputs": [
    {
     "data": {
      "text/plain": [
       "Index(['A2', 'A1', 'T2', 'F8', 'T4', 'T6', 'T1', 'F7', 'O1', 'O2'], dtype='object', name='channel')"
      ]
     },
     "execution_count": 119,
     "metadata": {},
     "output_type": "execute_result"
    }
   ],
   "source": [
    "channel_rest=importances_channel.sort_values(ascending = False)[:10].index\n",
    "channel_rest"
   ]
  },
  {
   "cell_type": "markdown",
   "metadata": {},
   "source": [
    "#### Plot features that are contributing the most to classification"
   ]
  },
  {
   "cell_type": "code",
   "execution_count": 120,
   "metadata": {},
   "outputs": [
    {
     "data": {
      "image/png": "[encoded data removed]",
      "text/plain": [
       "<Figure size 1080x720 with 1 Axes>"
      ]
     },
     "metadata": {
      "needs_background": "light"
     },
     "output_type": "display_data"
    }
   ],
   "source": [
    "plt.figure(figsize=(15,10))\n",
    "\n",
    "importances_features = importances_multi_index.groupby('feature').sum()\n",
    "importances_features.sort_values(ascending = False).plot.bar(legend =False, grid=False)\n",
    "plt.title('Feature Importances')\n",
    "\n",
    "plt.xticks(rotation=45,ha='right')\n",
    "plt.tight_layout()\n",
    "\n",
    "#plt.savefig(image_file_path, dpi=300)\n",
    "plt.show()"
   ]
  },
  {
   "cell_type": "markdown",
   "metadata": {},
   "source": [
    "#### List of the most contribued features"
   ]
  },
  {
   "cell_type": "code",
   "execution_count": 121,
   "metadata": {},
   "outputs": [
    {
     "data": {
      "text/plain": [
       "feature\n",
       "Mean_Abs_D5    0.132328\n",
       "Mean_Abs_D6    0.125576\n",
       "STD_D6         0.080858\n",
       "power_delta    0.067932\n",
       "STD_D5         0.048861\n",
       "Mean_Abs_D4    0.043469\n",
       "STD_D3         0.038487\n",
       "Mean_Abs_D1    0.036880\n",
       "power_alpha    0.034281\n",
       "Mean_Abs_D3    0.033914\n",
       "Mean_Abs_D2    0.031709\n",
       "power_theta    0.027512\n",
       "STD_D4         0.026044\n",
       "STD_D1         0.023192\n",
       "STD_D2         0.022827\n",
       "power_beta     0.020389\n",
       "Mean_D4        0.018602\n",
       "power_gamma    0.018138\n",
       "LSWT_D4        0.016996\n",
       "Mean_D2        0.016814\n",
       "Mean_D1        0.016707\n",
       "LSWT_D5        0.016695\n",
       "Mean_D6        0.015710\n",
       "Mean_D5        0.015560\n",
       "LSWT_D3        0.015065\n",
       "LSWT_D6        0.014693\n",
       "LSWT_D2        0.014479\n",
       "LSWT_D1        0.014154\n",
       "Mean_D3        0.012131\n",
       "dtype: float64"
      ]
     },
     "execution_count": 121,
     "metadata": {},
     "output_type": "execute_result"
    }
   ],
   "source": [
    "importances_features = importances_multi_index.groupby('feature').sum()\n",
    "features_rest=importances_features.sort_values(ascending = False)\n",
    "features_rest"
   ]
  },
  {
   "cell_type": "code",
   "execution_count": 122,
   "metadata": {},
   "outputs": [
    {
     "data": {
      "text/plain": [
       "Index(['Mean_Abs_D5', 'Mean_Abs_D6', 'STD_D6', 'power_delta', 'STD_D5',\n",
       "       'Mean_Abs_D4', 'STD_D3', 'Mean_Abs_D1', 'power_alpha', 'Mean_Abs_D3'],\n",
       "      dtype='object', name='feature')"
      ]
     },
     "execution_count": 122,
     "metadata": {},
     "output_type": "execute_result"
    }
   ],
   "source": [
    "features_rest=features_rest[:10].index\n",
    "features_rest"
   ]
  },
  {
   "cell_type": "markdown",
   "metadata": {},
   "source": [
    "#### The 2 lists"
   ]
  },
  {
   "cell_type": "code",
   "execution_count": 123,
   "metadata": {},
   "outputs": [
    {
     "name": "stdout",
     "output_type": "stream",
     "text": [
      "Index(['A2', 'A1', 'T2', 'F8', 'T4', 'T6', 'T1', 'F7', 'O1', 'O2'], dtype='object', name='channel')\n",
      "Index(['Mean_Abs_D5', 'Mean_Abs_D6', 'STD_D6', 'power_delta', 'STD_D5',\n",
      "       'Mean_Abs_D4', 'STD_D3', 'Mean_Abs_D1', 'power_alpha', 'Mean_Abs_D3'],\n",
      "      dtype='object', name='feature')\n"
     ]
    }
   ],
   "source": [
    "print(channel_rest)\n",
    "print(features_rest)"
   ]
  },
  {
   "cell_type": "code",
   "execution_count": 11,
   "metadata": {},
   "outputs": [],
   "source": [
    "l1=['A2', 'A1', 'T2', 'F8', 'T4', 'T6', 'T1', 'F7', 'O1', 'O2']\n",
    "l2=['Mean_Abs_D5', 'Mean_Abs_D6', 'STD_D6', 'power_delta', 'STD_D5',\n",
    "       'Mean_Abs_D4', 'STD_D3', 'Mean_Abs_D1', 'power_alpha', 'Mean_Abs_D3']\n"
   ]
  },
  {
   "cell_type": "code",
   "execution_count": 12,
   "metadata": {},
   "outputs": [],
   "source": [
    "feat_rest=[]\n",
    "for i in l1:\n",
    "    for j in l2:\n",
    "        feat_rest.append(i+'_'+j)"
   ]
  },
  {
   "cell_type": "code",
   "execution_count": 13,
   "metadata": {},
   "outputs": [
    {
     "data": {
      "text/plain": [
       "['A2_Mean_Abs_D5',\n",
       " 'A2_Mean_Abs_D6',\n",
       " 'A2_STD_D6',\n",
       " 'A2_power_delta',\n",
       " 'A2_STD_D5',\n",
       " 'A2_Mean_Abs_D4',\n",
       " 'A2_STD_D3',\n",
       " 'A2_Mean_Abs_D1',\n",
       " 'A2_power_alpha',\n",
       " 'A2_Mean_Abs_D3',\n",
       " 'A1_Mean_Abs_D5',\n",
       " 'A1_Mean_Abs_D6',\n",
       " 'A1_STD_D6',\n",
       " 'A1_power_delta',\n",
       " 'A1_STD_D5',\n",
       " 'A1_Mean_Abs_D4',\n",
       " 'A1_STD_D3',\n",
       " 'A1_Mean_Abs_D1',\n",
       " 'A1_power_alpha',\n",
       " 'A1_Mean_Abs_D3',\n",
       " 'T2_Mean_Abs_D5',\n",
       " 'T2_Mean_Abs_D6',\n",
       " 'T2_STD_D6',\n",
       " 'T2_power_delta',\n",
       " 'T2_STD_D5',\n",
       " 'T2_Mean_Abs_D4',\n",
       " 'T2_STD_D3',\n",
       " 'T2_Mean_Abs_D1',\n",
       " 'T2_power_alpha',\n",
       " 'T2_Mean_Abs_D3',\n",
       " 'F8_Mean_Abs_D5',\n",
       " 'F8_Mean_Abs_D6',\n",
       " 'F8_STD_D6',\n",
       " 'F8_power_delta',\n",
       " 'F8_STD_D5',\n",
       " 'F8_Mean_Abs_D4',\n",
       " 'F8_STD_D3',\n",
       " 'F8_Mean_Abs_D1',\n",
       " 'F8_power_alpha',\n",
       " 'F8_Mean_Abs_D3',\n",
       " 'T4_Mean_Abs_D5',\n",
       " 'T4_Mean_Abs_D6',\n",
       " 'T4_STD_D6',\n",
       " 'T4_power_delta',\n",
       " 'T4_STD_D5',\n",
       " 'T4_Mean_Abs_D4',\n",
       " 'T4_STD_D3',\n",
       " 'T4_Mean_Abs_D1',\n",
       " 'T4_power_alpha',\n",
       " 'T4_Mean_Abs_D3',\n",
       " 'T6_Mean_Abs_D5',\n",
       " 'T6_Mean_Abs_D6',\n",
       " 'T6_STD_D6',\n",
       " 'T6_power_delta',\n",
       " 'T6_STD_D5',\n",
       " 'T6_Mean_Abs_D4',\n",
       " 'T6_STD_D3',\n",
       " 'T6_Mean_Abs_D1',\n",
       " 'T6_power_alpha',\n",
       " 'T6_Mean_Abs_D3',\n",
       " 'T1_Mean_Abs_D5',\n",
       " 'T1_Mean_Abs_D6',\n",
       " 'T1_STD_D6',\n",
       " 'T1_power_delta',\n",
       " 'T1_STD_D5',\n",
       " 'T1_Mean_Abs_D4',\n",
       " 'T1_STD_D3',\n",
       " 'T1_Mean_Abs_D1',\n",
       " 'T1_power_alpha',\n",
       " 'T1_Mean_Abs_D3',\n",
       " 'F7_Mean_Abs_D5',\n",
       " 'F7_Mean_Abs_D6',\n",
       " 'F7_STD_D6',\n",
       " 'F7_power_delta',\n",
       " 'F7_STD_D5',\n",
       " 'F7_Mean_Abs_D4',\n",
       " 'F7_STD_D3',\n",
       " 'F7_Mean_Abs_D1',\n",
       " 'F7_power_alpha',\n",
       " 'F7_Mean_Abs_D3',\n",
       " 'O1_Mean_Abs_D5',\n",
       " 'O1_Mean_Abs_D6',\n",
       " 'O1_STD_D6',\n",
       " 'O1_power_delta',\n",
       " 'O1_STD_D5',\n",
       " 'O1_Mean_Abs_D4',\n",
       " 'O1_STD_D3',\n",
       " 'O1_Mean_Abs_D1',\n",
       " 'O1_power_alpha',\n",
       " 'O1_Mean_Abs_D3',\n",
       " 'O2_Mean_Abs_D5',\n",
       " 'O2_Mean_Abs_D6',\n",
       " 'O2_STD_D6',\n",
       " 'O2_power_delta',\n",
       " 'O2_STD_D5',\n",
       " 'O2_Mean_Abs_D4',\n",
       " 'O2_STD_D3',\n",
       " 'O2_Mean_Abs_D1',\n",
       " 'O2_power_alpha',\n",
       " 'O2_Mean_Abs_D3']"
      ]
     },
     "execution_count": 13,
     "metadata": {},
     "output_type": "execute_result"
    }
   ],
   "source": [
    "feat_rest"
   ]
  },
  {
   "cell_type": "code",
   "execution_count": 14,
   "metadata": {},
   "outputs": [
    {
     "data": {
      "text/html": [
       "<div>\n",
       "<style scoped>\n",
       "    .dataframe tbody tr th:only-of-type {\n",
       "        vertical-align: middle;\n",
       "    }\n",
       "\n",
       "    .dataframe tbody tr th {\n",
       "        vertical-align: top;\n",
       "    }\n",
       "\n",
       "    .dataframe thead th {\n",
       "        text-align: right;\n",
       "    }\n",
       "</style>\n",
       "<table border=\"1\" class=\"dataframe\">\n",
       "  <thead>\n",
       "    <tr style=\"text-align: right;\">\n",
       "      <th></th>\n",
       "      <th>A2_Mean_Abs_D5</th>\n",
       "      <th>A2_Mean_Abs_D6</th>\n",
       "      <th>A2_STD_D6</th>\n",
       "      <th>A2_power_delta</th>\n",
       "      <th>A2_STD_D5</th>\n",
       "      <th>A2_Mean_Abs_D4</th>\n",
       "      <th>A2_STD_D3</th>\n",
       "      <th>A2_Mean_Abs_D1</th>\n",
       "      <th>A2_power_alpha</th>\n",
       "      <th>A2_Mean_Abs_D3</th>\n",
       "      <th>...</th>\n",
       "      <th>O2_Mean_Abs_D5</th>\n",
       "      <th>O2_Mean_Abs_D6</th>\n",
       "      <th>O2_STD_D6</th>\n",
       "      <th>O2_power_delta</th>\n",
       "      <th>O2_STD_D5</th>\n",
       "      <th>O2_Mean_Abs_D4</th>\n",
       "      <th>O2_STD_D3</th>\n",
       "      <th>O2_Mean_Abs_D1</th>\n",
       "      <th>O2_power_alpha</th>\n",
       "      <th>O2_Mean_Abs_D3</th>\n",
       "    </tr>\n",
       "  </thead>\n",
       "  <tbody>\n",
       "    <tr>\n",
       "      <th>0</th>\n",
       "      <td>22.852999</td>\n",
       "      <td>20.933965</td>\n",
       "      <td>29.964009</td>\n",
       "      <td>28.375780</td>\n",
       "      <td>30.824194</td>\n",
       "      <td>30.992704</td>\n",
       "      <td>24.633367</td>\n",
       "      <td>8.144439</td>\n",
       "      <td>9.757570</td>\n",
       "      <td>19.473985</td>\n",
       "      <td>...</td>\n",
       "      <td>21.486506</td>\n",
       "      <td>22.445046</td>\n",
       "      <td>30.553198</td>\n",
       "      <td>24.154908</td>\n",
       "      <td>28.352918</td>\n",
       "      <td>30.724501</td>\n",
       "      <td>29.826645</td>\n",
       "      <td>2.325579</td>\n",
       "      <td>12.609051</td>\n",
       "      <td>23.418029</td>\n",
       "    </tr>\n",
       "    <tr>\n",
       "      <th>1</th>\n",
       "      <td>86.179374</td>\n",
       "      <td>130.066353</td>\n",
       "      <td>162.276954</td>\n",
       "      <td>250.726060</td>\n",
       "      <td>108.082820</td>\n",
       "      <td>39.456946</td>\n",
       "      <td>25.925361</td>\n",
       "      <td>15.034749</td>\n",
       "      <td>12.881167</td>\n",
       "      <td>19.925797</td>\n",
       "      <td>...</td>\n",
       "      <td>84.824403</td>\n",
       "      <td>121.224358</td>\n",
       "      <td>152.171055</td>\n",
       "      <td>260.631991</td>\n",
       "      <td>107.206309</td>\n",
       "      <td>47.741488</td>\n",
       "      <td>26.912366</td>\n",
       "      <td>10.050170</td>\n",
       "      <td>13.122560</td>\n",
       "      <td>21.026767</td>\n",
       "    </tr>\n",
       "    <tr>\n",
       "      <th>2</th>\n",
       "      <td>82.140289</td>\n",
       "      <td>129.243781</td>\n",
       "      <td>555.038460</td>\n",
       "      <td>4278.751615</td>\n",
       "      <td>416.164959</td>\n",
       "      <td>39.935063</td>\n",
       "      <td>101.969857</td>\n",
       "      <td>9.304120</td>\n",
       "      <td>193.788307</td>\n",
       "      <td>19.501047</td>\n",
       "      <td>...</td>\n",
       "      <td>66.288761</td>\n",
       "      <td>101.123762</td>\n",
       "      <td>131.608233</td>\n",
       "      <td>207.534753</td>\n",
       "      <td>86.902613</td>\n",
       "      <td>37.472771</td>\n",
       "      <td>22.043434</td>\n",
       "      <td>6.698510</td>\n",
       "      <td>9.070267</td>\n",
       "      <td>17.087469</td>\n",
       "    </tr>\n",
       "    <tr>\n",
       "      <th>3</th>\n",
       "      <td>34.889976</td>\n",
       "      <td>62.474034</td>\n",
       "      <td>78.775816</td>\n",
       "      <td>67.900098</td>\n",
       "      <td>44.499732</td>\n",
       "      <td>21.792643</td>\n",
       "      <td>14.903368</td>\n",
       "      <td>1.682266</td>\n",
       "      <td>3.938097</td>\n",
       "      <td>11.377001</td>\n",
       "      <td>...</td>\n",
       "      <td>30.973314</td>\n",
       "      <td>51.038523</td>\n",
       "      <td>63.217004</td>\n",
       "      <td>45.290731</td>\n",
       "      <td>39.542323</td>\n",
       "      <td>19.835054</td>\n",
       "      <td>13.090136</td>\n",
       "      <td>1.319977</td>\n",
       "      <td>3.007469</td>\n",
       "      <td>9.602630</td>\n",
       "    </tr>\n",
       "    <tr>\n",
       "      <th>4</th>\n",
       "      <td>35.375126</td>\n",
       "      <td>75.996431</td>\n",
       "      <td>94.032286</td>\n",
       "      <td>95.513353</td>\n",
       "      <td>45.084992</td>\n",
       "      <td>19.552341</td>\n",
       "      <td>13.195616</td>\n",
       "      <td>1.740124</td>\n",
       "      <td>3.279134</td>\n",
       "      <td>10.126820</td>\n",
       "      <td>...</td>\n",
       "      <td>30.635071</td>\n",
       "      <td>57.370617</td>\n",
       "      <td>72.365340</td>\n",
       "      <td>57.714807</td>\n",
       "      <td>39.104117</td>\n",
       "      <td>17.387770</td>\n",
       "      <td>10.971266</td>\n",
       "      <td>1.150261</td>\n",
       "      <td>2.237019</td>\n",
       "      <td>8.286495</td>\n",
       "    </tr>\n",
       "    <tr>\n",
       "      <th>...</th>\n",
       "      <td>...</td>\n",
       "      <td>...</td>\n",
       "      <td>...</td>\n",
       "      <td>...</td>\n",
       "      <td>...</td>\n",
       "      <td>...</td>\n",
       "      <td>...</td>\n",
       "      <td>...</td>\n",
       "      <td>...</td>\n",
       "      <td>...</td>\n",
       "      <td>...</td>\n",
       "      <td>...</td>\n",
       "      <td>...</td>\n",
       "      <td>...</td>\n",
       "      <td>...</td>\n",
       "      <td>...</td>\n",
       "      <td>...</td>\n",
       "      <td>...</td>\n",
       "      <td>...</td>\n",
       "      <td>...</td>\n",
       "      <td>...</td>\n",
       "    </tr>\n",
       "    <tr>\n",
       "      <th>2211</th>\n",
       "      <td>81.923520</td>\n",
       "      <td>99.579880</td>\n",
       "      <td>128.216258</td>\n",
       "      <td>278.915946</td>\n",
       "      <td>105.750210</td>\n",
       "      <td>67.761091</td>\n",
       "      <td>29.823383</td>\n",
       "      <td>10.673200</td>\n",
       "      <td>16.307940</td>\n",
       "      <td>23.486070</td>\n",
       "      <td>...</td>\n",
       "      <td>79.645676</td>\n",
       "      <td>97.142354</td>\n",
       "      <td>126.112230</td>\n",
       "      <td>259.105839</td>\n",
       "      <td>102.468201</td>\n",
       "      <td>65.622440</td>\n",
       "      <td>30.815601</td>\n",
       "      <td>4.224018</td>\n",
       "      <td>16.678501</td>\n",
       "      <td>24.286607</td>\n",
       "    </tr>\n",
       "    <tr>\n",
       "      <th>2212</th>\n",
       "      <td>56.645968</td>\n",
       "      <td>97.631636</td>\n",
       "      <td>121.279286</td>\n",
       "      <td>142.101964</td>\n",
       "      <td>72.086131</td>\n",
       "      <td>31.265896</td>\n",
       "      <td>16.908417</td>\n",
       "      <td>8.435928</td>\n",
       "      <td>5.372185</td>\n",
       "      <td>13.327179</td>\n",
       "      <td>...</td>\n",
       "      <td>73.881114</td>\n",
       "      <td>127.903927</td>\n",
       "      <td>162.003656</td>\n",
       "      <td>273.642216</td>\n",
       "      <td>95.774027</td>\n",
       "      <td>55.500747</td>\n",
       "      <td>28.137599</td>\n",
       "      <td>8.380469</td>\n",
       "      <td>13.992961</td>\n",
       "      <td>21.792593</td>\n",
       "    </tr>\n",
       "    <tr>\n",
       "      <th>2213</th>\n",
       "      <td>53.533686</td>\n",
       "      <td>88.152523</td>\n",
       "      <td>114.288080</td>\n",
       "      <td>133.407780</td>\n",
       "      <td>68.317539</td>\n",
       "      <td>32.920422</td>\n",
       "      <td>17.102229</td>\n",
       "      <td>7.282855</td>\n",
       "      <td>5.530731</td>\n",
       "      <td>13.367891</td>\n",
       "      <td>...</td>\n",
       "      <td>74.048495</td>\n",
       "      <td>121.607904</td>\n",
       "      <td>153.997416</td>\n",
       "      <td>255.424762</td>\n",
       "      <td>93.902365</td>\n",
       "      <td>54.103248</td>\n",
       "      <td>28.272876</td>\n",
       "      <td>6.068071</td>\n",
       "      <td>13.798390</td>\n",
       "      <td>21.966931</td>\n",
       "    </tr>\n",
       "    <tr>\n",
       "      <th>2214</th>\n",
       "      <td>31.958405</td>\n",
       "      <td>67.167126</td>\n",
       "      <td>85.090098</td>\n",
       "      <td>73.286069</td>\n",
       "      <td>40.522999</td>\n",
       "      <td>25.573151</td>\n",
       "      <td>15.384458</td>\n",
       "      <td>4.902508</td>\n",
       "      <td>4.058711</td>\n",
       "      <td>11.976274</td>\n",
       "      <td>...</td>\n",
       "      <td>46.610193</td>\n",
       "      <td>83.172397</td>\n",
       "      <td>105.078417</td>\n",
       "      <td>120.011487</td>\n",
       "      <td>58.275387</td>\n",
       "      <td>36.470612</td>\n",
       "      <td>21.882210</td>\n",
       "      <td>1.674490</td>\n",
       "      <td>7.690967</td>\n",
       "      <td>16.845261</td>\n",
       "    </tr>\n",
       "    <tr>\n",
       "      <th>2215</th>\n",
       "      <td>21.275033</td>\n",
       "      <td>34.336155</td>\n",
       "      <td>47.368617</td>\n",
       "      <td>24.776702</td>\n",
       "      <td>28.975984</td>\n",
       "      <td>14.820433</td>\n",
       "      <td>13.138707</td>\n",
       "      <td>5.792344</td>\n",
       "      <td>3.001167</td>\n",
       "      <td>10.298484</td>\n",
       "      <td>...</td>\n",
       "      <td>17.589491</td>\n",
       "      <td>25.585188</td>\n",
       "      <td>34.202273</td>\n",
       "      <td>13.563487</td>\n",
       "      <td>24.786173</td>\n",
       "      <td>10.299312</td>\n",
       "      <td>8.147470</td>\n",
       "      <td>3.875331</td>\n",
       "      <td>1.173510</td>\n",
       "      <td>6.350466</td>\n",
       "    </tr>\n",
       "  </tbody>\n",
       "</table>\n",
       "<p>2216 rows × 100 columns</p>\n",
       "</div>"
      ],
      "text/plain": [
       "      A2_Mean_Abs_D5  A2_Mean_Abs_D6   A2_STD_D6  A2_power_delta   A2_STD_D5  \\\n",
       "0          22.852999       20.933965   29.964009       28.375780   30.824194   \n",
       "1          86.179374      130.066353  162.276954      250.726060  108.082820   \n",
       "2          82.140289      129.243781  555.038460     4278.751615  416.164959   \n",
       "3          34.889976       62.474034   78.775816       67.900098   44.499732   \n",
       "4          35.375126       75.996431   94.032286       95.513353   45.084992   \n",
       "...              ...             ...         ...             ...         ...   \n",
       "2211       81.923520       99.579880  128.216258      278.915946  105.750210   \n",
       "2212       56.645968       97.631636  121.279286      142.101964   72.086131   \n",
       "2213       53.533686       88.152523  114.288080      133.407780   68.317539   \n",
       "2214       31.958405       67.167126   85.090098       73.286069   40.522999   \n",
       "2215       21.275033       34.336155   47.368617       24.776702   28.975984   \n",
       "\n",
       "      A2_Mean_Abs_D4   A2_STD_D3  A2_Mean_Abs_D1  A2_power_alpha  \\\n",
       "0          30.992704   24.633367        8.144439        9.757570   \n",
       "1          39.456946   25.925361       15.034749       12.881167   \n",
       "2          39.935063  101.969857        9.304120      193.788307   \n",
       "3          21.792643   14.903368        1.682266        3.938097   \n",
       "4          19.552341   13.195616        1.740124        3.279134   \n",
       "...              ...         ...             ...             ...   \n",
       "2211       67.761091   29.823383       10.673200       16.307940   \n",
       "2212       31.265896   16.908417        8.435928        5.372185   \n",
       "2213       32.920422   17.102229        7.282855        5.530731   \n",
       "2214       25.573151   15.384458        4.902508        4.058711   \n",
       "2215       14.820433   13.138707        5.792344        3.001167   \n",
       "\n",
       "      A2_Mean_Abs_D3  ...  O2_Mean_Abs_D5  O2_Mean_Abs_D6   O2_STD_D6  \\\n",
       "0          19.473985  ...       21.486506       22.445046   30.553198   \n",
       "1          19.925797  ...       84.824403      121.224358  152.171055   \n",
       "2          19.501047  ...       66.288761      101.123762  131.608233   \n",
       "3          11.377001  ...       30.973314       51.038523   63.217004   \n",
       "4          10.126820  ...       30.635071       57.370617   72.365340   \n",
       "...              ...  ...             ...             ...         ...   \n",
       "2211       23.486070  ...       79.645676       97.142354  126.112230   \n",
       "2212       13.327179  ...       73.881114      127.903927  162.003656   \n",
       "2213       13.367891  ...       74.048495      121.607904  153.997416   \n",
       "2214       11.976274  ...       46.610193       83.172397  105.078417   \n",
       "2215       10.298484  ...       17.589491       25.585188   34.202273   \n",
       "\n",
       "      O2_power_delta   O2_STD_D5  O2_Mean_Abs_D4  O2_STD_D3  O2_Mean_Abs_D1  \\\n",
       "0          24.154908   28.352918       30.724501  29.826645        2.325579   \n",
       "1         260.631991  107.206309       47.741488  26.912366       10.050170   \n",
       "2         207.534753   86.902613       37.472771  22.043434        6.698510   \n",
       "3          45.290731   39.542323       19.835054  13.090136        1.319977   \n",
       "4          57.714807   39.104117       17.387770  10.971266        1.150261   \n",
       "...              ...         ...             ...        ...             ...   \n",
       "2211      259.105839  102.468201       65.622440  30.815601        4.224018   \n",
       "2212      273.642216   95.774027       55.500747  28.137599        8.380469   \n",
       "2213      255.424762   93.902365       54.103248  28.272876        6.068071   \n",
       "2214      120.011487   58.275387       36.470612  21.882210        1.674490   \n",
       "2215       13.563487   24.786173       10.299312   8.147470        3.875331   \n",
       "\n",
       "      O2_power_alpha  O2_Mean_Abs_D3  \n",
       "0          12.609051       23.418029  \n",
       "1          13.122560       21.026767  \n",
       "2           9.070267       17.087469  \n",
       "3           3.007469        9.602630  \n",
       "4           2.237019        8.286495  \n",
       "...              ...             ...  \n",
       "2211       16.678501       24.286607  \n",
       "2212       13.992961       21.792593  \n",
       "2213       13.798390       21.966931  \n",
       "2214        7.690967       16.845261  \n",
       "2215        1.173510        6.350466  \n",
       "\n",
       "[2216 rows x 100 columns]"
      ]
     },
     "execution_count": 14,
     "metadata": {},
     "output_type": "execute_result"
    }
   ],
   "source": [
    "data_x=data_x[feat_rest]\n",
    "data_x"
   ]
  },
  {
   "cell_type": "code",
   "execution_count": 15,
   "metadata": {},
   "outputs": [],
   "source": [
    "\n",
    "from sklearn.model_selection import train_test_split\n",
    "TEST_SIZE = 0.2\n",
    "RANDOM_STATE=0\n",
    "X_train, X_test, y_train, y_test = train_test_split(data_x, data_y, stratify=data_y,\n",
    "                                                    test_size=TEST_SIZE, \n",
    "                                                    random_state=RANDOM_STATE)"
   ]
  },
  {
   "cell_type": "markdown",
   "metadata": {},
   "source": [
    "## 2) Sequential Feature Selector"
   ]
  },
  {
   "cell_type": "code",
   "execution_count": 132,
   "metadata": {},
   "outputs": [],
   "source": [
    "from sklearn.preprocessing import StandardScaler\n",
    "from sklearn.svm import LinearSVC\n",
    "from sklearn.pipeline import Pipeline\n",
    "from sklearn.model_selection import StratifiedKFold, cross_val_score\n",
    "from sklearn.svm import SVC\n",
    "\n",
    "# set the random state\n",
    "np.random.seed(seed=RANDOM_STATE)\n",
    "\n",
    "\n",
    "pipe_svc_linear = Pipeline([('scl', StandardScaler()),\n",
    "                            ('clf', SVC(kernel='linear', \n",
    "                                        class_weight = 'balanced', \n",
    "                                        random_state=RANDOM_STATE))])\n",
    "\n",
    "N_SPLITS = 5\n",
    "\n",
    "StratKFold = StratifiedKFold(n_splits = N_SPLITS,\n",
    "                             shuffle=False,\n",
    "                             random_state=RANDOM_STATE)\n",
    "\n"
   ]
  },
  {
   "cell_type": "code",
   "execution_count": null,
   "metadata": {},
   "outputs": [],
   "source": []
  },
  {
   "cell_type": "code",
   "execution_count": 133,
   "metadata": {},
   "outputs": [
    {
     "name": "stderr",
     "output_type": "stream",
     "text": [
      "[Parallel(n_jobs=-1)]: Using backend LokyBackend with 4 concurrent workers.\n",
      "[Parallel(n_jobs=-1)]: Done  33 tasks      | elapsed:   47.6s\n",
      "[Parallel(n_jobs=-1)]: Done 100 out of 100 | elapsed:  1.1min finished\n",
      "\n",
      "[2021-04-28 01:06:37] Features: 1/30 -- score: 0.7062071243016866[Parallel(n_jobs=-1)]: Using backend LokyBackend with 4 concurrent workers.\n",
      "[Parallel(n_jobs=-1)]: Done  33 tasks      | elapsed:    8.7s\n",
      "[Parallel(n_jobs=-1)]: Done  99 out of  99 | elapsed:   26.8s finished\n",
      "\n",
      "[2021-04-28 01:07:04] Features: 2/30 -- score: 0.7293051435429632[Parallel(n_jobs=-1)]: Using backend LokyBackend with 4 concurrent workers.\n",
      "[Parallel(n_jobs=-1)]: Done  33 tasks      | elapsed:    9.9s\n",
      "[Parallel(n_jobs=-1)]: Done  98 out of  98 | elapsed:   28.0s finished\n",
      "\n",
      "[2021-04-28 01:07:32] Features: 3/30 -- score: 0.7550610250384737[Parallel(n_jobs=-1)]: Using backend LokyBackend with 4 concurrent workers.\n",
      "[Parallel(n_jobs=-1)]: Done  33 tasks      | elapsed:    9.8s\n",
      "[Parallel(n_jobs=-1)]: Done  97 out of  97 | elapsed:   27.6s finished\n",
      "\n",
      "[2021-04-28 01:08:00] Features: 4/30 -- score: 0.759480711026549[Parallel(n_jobs=-1)]: Using backend LokyBackend with 4 concurrent workers.\n",
      "[Parallel(n_jobs=-1)]: Done  33 tasks      | elapsed:   10.9s\n",
      "[Parallel(n_jobs=-1)]: Done  96 out of  96 | elapsed:   29.4s finished\n",
      "\n",
      "[2021-04-28 01:08:30] Features: 5/30 -- score: 0.7611061807417718[Parallel(n_jobs=-1)]: Using backend LokyBackend with 4 concurrent workers.\n",
      "[Parallel(n_jobs=-1)]: Done  33 tasks      | elapsed:   11.4s\n",
      "[Parallel(n_jobs=-1)]: Done  95 out of  95 | elapsed:   29.6s finished\n",
      "\n",
      "[2021-04-28 01:08:59] Features: 6/30 -- score: 0.7598698815777297[Parallel(n_jobs=-1)]: Using backend LokyBackend with 4 concurrent workers.\n",
      "[Parallel(n_jobs=-1)]: Done  33 tasks      | elapsed:   10.5s\n",
      "[Parallel(n_jobs=-1)]: Done  94 out of  94 | elapsed:   22.3s finished\n",
      "\n",
      "[2021-04-28 01:09:22] Features: 7/30 -- score: 0.7634718500997245[Parallel(n_jobs=-1)]: Using backend LokyBackend with 4 concurrent workers.\n",
      "[Parallel(n_jobs=-1)]: Done  33 tasks      | elapsed:    6.2s\n",
      "[Parallel(n_jobs=-1)]: Done  93 out of  93 | elapsed:   24.0s finished\n",
      "\n",
      "[2021-04-28 01:09:46] Features: 8/30 -- score: 0.7621196139163371[Parallel(n_jobs=-1)]: Using backend LokyBackend with 4 concurrent workers.\n",
      "[Parallel(n_jobs=-1)]: Done  33 tasks      | elapsed:   11.3s\n",
      "[Parallel(n_jobs=-1)]: Done  92 out of  92 | elapsed: 60.4min finished\n",
      "\n",
      "[2021-04-28 02:10:09] Features: 9/30 -- score: 0.7618081189344792[Parallel(n_jobs=-1)]: Using backend LokyBackend with 4 concurrent workers.\n",
      "[Parallel(n_jobs=-1)]: Done  33 tasks      | elapsed:    8.1s\n",
      "[Parallel(n_jobs=-1)]: Done  91 out of  91 | elapsed:   19.4s finished\n",
      "\n",
      "[2021-04-28 02:10:28] Features: 10/30 -- score: 0.7589146406423096[Parallel(n_jobs=-1)]: Using backend LokyBackend with 4 concurrent workers.\n",
      "[Parallel(n_jobs=-1)]: Done  33 tasks      | elapsed:    7.4s\n",
      "[Parallel(n_jobs=-1)]: Done  90 out of  90 | elapsed:   19.0s finished\n",
      "\n",
      "[2021-04-28 02:10:47] Features: 11/30 -- score: 0.7595087027609129[Parallel(n_jobs=-1)]: Using backend LokyBackend with 4 concurrent workers.\n",
      "[Parallel(n_jobs=-1)]: Done  33 tasks      | elapsed:    7.5s\n",
      "[Parallel(n_jobs=-1)]: Done  89 out of  89 | elapsed:   19.3s finished\n",
      "\n",
      "[2021-04-28 02:11:07] Features: 12/30 -- score: 0.7601137311367466[Parallel(n_jobs=-1)]: Using backend LokyBackend with 4 concurrent workers.\n",
      "[Parallel(n_jobs=-1)]: Done  33 tasks      | elapsed:    8.3s\n",
      "[Parallel(n_jobs=-1)]: Done  88 out of  88 | elapsed:   28.6s finished\n",
      "\n",
      "[2021-04-28 02:11:35] Features: 13/30 -- score: 0.7559769367949328[Parallel(n_jobs=-1)]: Using backend LokyBackend with 4 concurrent workers.\n",
      "[Parallel(n_jobs=-1)]: Done  33 tasks      | elapsed:   16.1s\n",
      "[Parallel(n_jobs=-1)]: Done  87 out of  87 | elapsed:   42.4s finished\n",
      "\n",
      "[2021-04-28 02:12:18] Features: 14/30 -- score: 0.7607198342043728[Parallel(n_jobs=-1)]: Using backend LokyBackend with 4 concurrent workers.\n",
      "[Parallel(n_jobs=-1)]: Done  33 tasks      | elapsed:   18.4s\n",
      "[Parallel(n_jobs=-1)]: Done  86 out of  86 | elapsed:   42.0s finished\n",
      "\n",
      "[2021-04-28 02:13:00] Features: 15/30 -- score: 0.7660641059458236[Parallel(n_jobs=-1)]: Using backend LokyBackend with 4 concurrent workers.\n",
      "[Parallel(n_jobs=-1)]: Done  33 tasks      | elapsed:   15.7s\n",
      "[Parallel(n_jobs=-1)]: Done  85 out of  85 | elapsed:   38.6s finished\n",
      "\n",
      "[2021-04-28 02:13:39] Features: 16/30 -- score: 0.7681968164310613[Parallel(n_jobs=-1)]: Using backend LokyBackend with 4 concurrent workers.\n",
      "[Parallel(n_jobs=-1)]: Done  33 tasks      | elapsed:   15.7s\n",
      "[Parallel(n_jobs=-1)]: Done  84 out of  84 | elapsed:   37.7s finished\n",
      "\n",
      "[2021-04-28 02:14:17] Features: 17/30 -- score: 0.7716693116057026[Parallel(n_jobs=-1)]: Using backend LokyBackend with 4 concurrent workers.\n",
      "[Parallel(n_jobs=-1)]: Done  33 tasks      | elapsed:   16.2s\n",
      "[Parallel(n_jobs=-1)]: Done  83 out of  83 | elapsed:   38.5s finished\n",
      "\n",
      "[2021-04-28 02:14:55] Features: 18/30 -- score: 0.7966970022191209[Parallel(n_jobs=-1)]: Using backend LokyBackend with 4 concurrent workers.\n",
      "[Parallel(n_jobs=-1)]: Done  33 tasks      | elapsed:   16.3s\n",
      "[Parallel(n_jobs=-1)]: Done  82 out of  82 | elapsed:   37.7s finished\n",
      "\n",
      "[2021-04-28 02:15:33] Features: 19/30 -- score: 0.8146955280345051[Parallel(n_jobs=-1)]: Using backend LokyBackend with 4 concurrent workers.\n",
      "[Parallel(n_jobs=-1)]: Done  33 tasks      | elapsed:   15.1s\n",
      "[Parallel(n_jobs=-1)]: Done  81 out of  81 | elapsed:   34.7s finished\n",
      "\n",
      "[2021-04-28 02:16:08] Features: 20/30 -- score: 0.8201196252402303[Parallel(n_jobs=-1)]: Using backend LokyBackend with 4 concurrent workers.\n",
      "[Parallel(n_jobs=-1)]: Done  33 tasks      | elapsed:   15.9s\n",
      "[Parallel(n_jobs=-1)]: Done  80 out of  80 | elapsed:   35.5s finished\n",
      "\n",
      "[2021-04-28 02:16:43] Features: 21/30 -- score: 0.8264548430992583[Parallel(n_jobs=-1)]: Using backend LokyBackend with 4 concurrent workers.\n",
      "[Parallel(n_jobs=-1)]: Done  33 tasks      | elapsed:   16.0s\n",
      "[Parallel(n_jobs=-1)]: Done  79 out of  79 | elapsed:   36.1s finished\n",
      "\n",
      "[2021-04-28 02:17:20] Features: 22/30 -- score: 0.8289337066473148[Parallel(n_jobs=-1)]: Using backend LokyBackend with 4 concurrent workers.\n",
      "[Parallel(n_jobs=-1)]: Done  33 tasks      | elapsed:   16.8s\n",
      "[Parallel(n_jobs=-1)]: Done  78 out of  78 | elapsed:   37.2s finished\n",
      "\n",
      "[2021-04-28 02:17:57] Features: 23/30 -- score: 0.8317354544881498[Parallel(n_jobs=-1)]: Using backend LokyBackend with 4 concurrent workers.\n",
      "[Parallel(n_jobs=-1)]: Done  33 tasks      | elapsed:   16.4s\n",
      "[Parallel(n_jobs=-1)]: Done  77 out of  77 | elapsed:   36.7s finished\n",
      "\n",
      "[2021-04-28 02:18:34] Features: 24/30 -- score: 0.8335885813870252[Parallel(n_jobs=-1)]: Using backend LokyBackend with 4 concurrent workers.\n",
      "[Parallel(n_jobs=-1)]: Done  33 tasks      | elapsed:   16.8s\n",
      "[Parallel(n_jobs=-1)]: Done  76 out of  76 | elapsed:   36.0s finished\n",
      "\n",
      "[2021-04-28 02:19:10] Features: 25/30 -- score: 0.8348592823516994[Parallel(n_jobs=-1)]: Using backend LokyBackend with 4 concurrent workers.\n",
      "[Parallel(n_jobs=-1)]: Done  33 tasks      | elapsed:   17.4s\n",
      "[Parallel(n_jobs=-1)]: Done  75 out of  75 | elapsed:   37.0s finished\n",
      "\n",
      "[2021-04-28 02:19:47] Features: 26/30 -- score: 0.8365812680003419[Parallel(n_jobs=-1)]: Using backend LokyBackend with 4 concurrent workers.\n",
      "[Parallel(n_jobs=-1)]: Done  33 tasks      | elapsed:   17.9s\n",
      "[Parallel(n_jobs=-1)]: Done  74 out of  74 | elapsed:   37.9s finished\n",
      "\n",
      "[2021-04-28 02:20:25] Features: 27/30 -- score: 0.8361997563659649[Parallel(n_jobs=-1)]: Using backend LokyBackend with 4 concurrent workers.\n",
      "[Parallel(n_jobs=-1)]: Done  33 tasks      | elapsed:   17.9s\n",
      "[Parallel(n_jobs=-1)]: Done  73 out of  73 | elapsed:   37.5s finished\n",
      "\n",
      "[2021-04-28 02:21:03] Features: 28/30 -- score: 0.8352509489470027[Parallel(n_jobs=-1)]: Using backend LokyBackend with 4 concurrent workers.\n",
      "[Parallel(n_jobs=-1)]: Done  33 tasks      | elapsed:   18.7s\n",
      "[Parallel(n_jobs=-1)]: Done  72 out of  72 | elapsed:   37.8s finished\n",
      "\n",
      "[2021-04-28 02:21:41] Features: 29/30 -- score: 0.8342562732480193[Parallel(n_jobs=-1)]: Using backend LokyBackend with 4 concurrent workers.\n",
      "[Parallel(n_jobs=-1)]: Done  33 tasks      | elapsed:   21.2s\n",
      "[Parallel(n_jobs=-1)]: Done  71 out of  71 | elapsed:   40.9s finished\n",
      "\n",
      "[2021-04-28 02:22:22] Features: 30/30 -- score: 0.8336992331254404"
     ]
    },
    {
     "data": {
      "text/html": [
       "<div>\n",
       "<style scoped>\n",
       "    .dataframe tbody tr th:only-of-type {\n",
       "        vertical-align: middle;\n",
       "    }\n",
       "\n",
       "    .dataframe tbody tr th {\n",
       "        vertical-align: top;\n",
       "    }\n",
       "\n",
       "    .dataframe thead th {\n",
       "        text-align: right;\n",
       "    }\n",
       "</style>\n",
       "<table border=\"1\" class=\"dataframe\">\n",
       "  <thead>\n",
       "    <tr style=\"text-align: right;\">\n",
       "      <th></th>\n",
       "      <th>feature_idx</th>\n",
       "      <th>cv_scores</th>\n",
       "      <th>avg_score</th>\n",
       "      <th>feature_names</th>\n",
       "      <th>ci_bound</th>\n",
       "      <th>std_dev</th>\n",
       "      <th>std_err</th>\n",
       "    </tr>\n",
       "  </thead>\n",
       "  <tbody>\n",
       "    <tr>\n",
       "      <th>1</th>\n",
       "      <td>(64,)</td>\n",
       "      <td>[0.7127158555729983, 0.7070063694267517, 0.709...</td>\n",
       "      <td>0.706207</td>\n",
       "      <td>(T1_STD_D5,)</td>\n",
       "      <td>0.00608212</td>\n",
       "      <td>0.0047321</td>\n",
       "      <td>0.00236605</td>\n",
       "    </tr>\n",
       "    <tr>\n",
       "      <th>2</th>\n",
       "      <td>(64, 71)</td>\n",
       "      <td>[0.7097791798107256, 0.7710371819960861, 0.707...</td>\n",
       "      <td>0.729305</td>\n",
       "      <td>(T1_STD_D5, F7_Mean_Abs_D6)</td>\n",
       "      <td>0.035252</td>\n",
       "      <td>0.0274272</td>\n",
       "      <td>0.0137136</td>\n",
       "    </tr>\n",
       "    <tr>\n",
       "      <th>3</th>\n",
       "      <td>(64, 71, 74)</td>\n",
       "      <td>[0.7595419847328244, 0.7886178861788617, 0.752...</td>\n",
       "      <td>0.755061</td>\n",
       "      <td>(T1_STD_D5, F7_Mean_Abs_D6, F7_STD_D5)</td>\n",
       "      <td>0.0292634</td>\n",
       "      <td>0.0227679</td>\n",
       "      <td>0.011384</td>\n",
       "    </tr>\n",
       "    <tr>\n",
       "      <th>4</th>\n",
       "      <td>(64, 67, 71, 74)</td>\n",
       "      <td>[0.7716535433070866, 0.7967479674796748, 0.752...</td>\n",
       "      <td>0.759481</td>\n",
       "      <td>(T1_STD_D5, T1_Mean_Abs_D1, F7_Mean_Abs_D6, F7...</td>\n",
       "      <td>0.031642</td>\n",
       "      <td>0.0246185</td>\n",
       "      <td>0.0123093</td>\n",
       "    </tr>\n",
       "    <tr>\n",
       "      <th>5</th>\n",
       "      <td>(34, 64, 67, 71, 74)</td>\n",
       "      <td>[0.7793814432989692, 0.7959183673469388, 0.761...</td>\n",
       "      <td>0.761106</td>\n",
       "      <td>(F8_STD_D5, T1_STD_D5, T1_Mean_Abs_D1, F7_Mean...</td>\n",
       "      <td>0.0333662</td>\n",
       "      <td>0.02596</td>\n",
       "      <td>0.01298</td>\n",
       "    </tr>\n",
       "    <tr>\n",
       "      <th>6</th>\n",
       "      <td>(34, 51, 64, 67, 71, 74)</td>\n",
       "      <td>[0.7803738317757009, 0.7861507128309572, 0.758...</td>\n",
       "      <td>0.75987</td>\n",
       "      <td>(F8_STD_D5, T6_Mean_Abs_D6, T1_STD_D5, T1_Mean...</td>\n",
       "      <td>0.0335354</td>\n",
       "      <td>0.0260917</td>\n",
       "      <td>0.0130459</td>\n",
       "    </tr>\n",
       "    <tr>\n",
       "      <th>7</th>\n",
       "      <td>(22, 34, 51, 64, 67, 71, 74)</td>\n",
       "      <td>[0.7832167832167832, 0.8103448275862069, 0.761...</td>\n",
       "      <td>0.763472</td>\n",
       "      <td>(T2_STD_D6, F8_STD_D5, T6_Mean_Abs_D6, T1_STD_...</td>\n",
       "      <td>0.0424739</td>\n",
       "      <td>0.0330461</td>\n",
       "      <td>0.0165231</td>\n",
       "    </tr>\n",
       "    <tr>\n",
       "      <th>8</th>\n",
       "      <td>(22, 34, 51, 64, 67, 68, 71, 74)</td>\n",
       "      <td>[0.7832167832167832, 0.8130434782608696, 0.750...</td>\n",
       "      <td>0.76212</td>\n",
       "      <td>(T2_STD_D6, F8_STD_D5, T6_Mean_Abs_D6, T1_STD_...</td>\n",
       "      <td>0.0439523</td>\n",
       "      <td>0.0341964</td>\n",
       "      <td>0.0170982</td>\n",
       "    </tr>\n",
       "    <tr>\n",
       "      <th>9</th>\n",
       "      <td>(22, 34, 51, 63, 64, 67, 68, 71, 74)</td>\n",
       "      <td>[0.793577981651376, 0.8009049773755655, 0.7629...</td>\n",
       "      <td>0.761808</td>\n",
       "      <td>(T2_STD_D6, F8_STD_D5, T6_Mean_Abs_D6, T1_powe...</td>\n",
       "      <td>0.0450117</td>\n",
       "      <td>0.0350207</td>\n",
       "      <td>0.0175103</td>\n",
       "    </tr>\n",
       "    <tr>\n",
       "      <th>10</th>\n",
       "      <td>(22, 23, 34, 51, 63, 64, 67, 68, 71, 74)</td>\n",
       "      <td>[0.7963386727688787, 0.7872763419483102, 0.765...</td>\n",
       "      <td>0.758915</td>\n",
       "      <td>(T2_STD_D6, T2_power_delta, F8_STD_D5, T6_Mean...</td>\n",
       "      <td>0.041637</td>\n",
       "      <td>0.032395</td>\n",
       "      <td>0.0161975</td>\n",
       "    </tr>\n",
       "    <tr>\n",
       "      <th>11</th>\n",
       "      <td>(22, 23, 34, 38, 51, 63, 64, 67, 68, 71, 74)</td>\n",
       "      <td>[0.7990867579908676, 0.8086021505376343, 0.752...</td>\n",
       "      <td>0.759509</td>\n",
       "      <td>(T2_STD_D6, T2_power_delta, F8_STD_D5, F8_powe...</td>\n",
       "      <td>0.0501146</td>\n",
       "      <td>0.0389909</td>\n",
       "      <td>0.0194954</td>\n",
       "    </tr>\n",
       "    <tr>\n",
       "      <th>12</th>\n",
       "      <td>(22, 23, 24, 34, 38, 51, 63, 64, 67, 68, 71, 74)</td>\n",
       "      <td>[0.7990867579908676, 0.8051391862955032, 0.755...</td>\n",
       "      <td>0.760114</td>\n",
       "      <td>(T2_STD_D6, T2_power_delta, T2_STD_D5, F8_STD_...</td>\n",
       "      <td>0.0477455</td>\n",
       "      <td>0.0371476</td>\n",
       "      <td>0.0185738</td>\n",
       "    </tr>\n",
       "    <tr>\n",
       "      <th>13</th>\n",
       "      <td>(13, 22, 23, 24, 34, 38, 51, 63, 64, 67, 68, 7...</td>\n",
       "      <td>[0.7770961145194274, 0.8018648018648019, 0.755...</td>\n",
       "      <td>0.755977</td>\n",
       "      <td>(A1_power_delta, T2_STD_D6, T2_power_delta, T2...</td>\n",
       "      <td>0.0437442</td>\n",
       "      <td>0.0340344</td>\n",
       "      <td>0.0170172</td>\n",
       "    </tr>\n",
       "    <tr>\n",
       "      <th>14</th>\n",
       "      <td>(13, 22, 23, 24, 34, 38, 51, 54, 63, 64, 67, 6...</td>\n",
       "      <td>[0.7836538461538461, 0.7892156862745098, 0.769...</td>\n",
       "      <td>0.76072</td>\n",
       "      <td>(A1_power_delta, T2_STD_D6, T2_power_delta, T2...</td>\n",
       "      <td>0.0371679</td>\n",
       "      <td>0.0289179</td>\n",
       "      <td>0.0144589</td>\n",
       "    </tr>\n",
       "    <tr>\n",
       "      <th>15</th>\n",
       "      <td>(13, 22, 23, 24, 28, 34, 38, 51, 54, 63, 64, 6...</td>\n",
       "      <td>[0.7873303167420815, 0.8133333333333332, 0.764...</td>\n",
       "      <td>0.766064</td>\n",
       "      <td>(A1_power_delta, T2_STD_D6, T2_power_delta, T2...</td>\n",
       "      <td>0.0433277</td>\n",
       "      <td>0.0337104</td>\n",
       "      <td>0.0168552</td>\n",
       "    </tr>\n",
       "    <tr>\n",
       "      <th>16</th>\n",
       "      <td>(13, 22, 23, 24, 28, 34, 38, 51, 54, 57, 63, 6...</td>\n",
       "      <td>[0.8077753779697625, 0.8115299334811529, 0.754...</td>\n",
       "      <td>0.768197</td>\n",
       "      <td>(A1_power_delta, T2_STD_D6, T2_power_delta, T2...</td>\n",
       "      <td>0.0470805</td>\n",
       "      <td>0.0366303</td>\n",
       "      <td>0.0183151</td>\n",
       "    </tr>\n",
       "    <tr>\n",
       "      <th>17</th>\n",
       "      <td>(13, 22, 23, 24, 28, 34, 38, 51, 54, 57, 63, 6...</td>\n",
       "      <td>[0.8103448275862069, 0.8136363636363636, 0.753...</td>\n",
       "      <td>0.771669</td>\n",
       "      <td>(A1_power_delta, T2_STD_D6, T2_power_delta, T2...</td>\n",
       "      <td>0.0440951</td>\n",
       "      <td>0.0343075</td>\n",
       "      <td>0.0171537</td>\n",
       "    </tr>\n",
       "    <tr>\n",
       "      <th>18</th>\n",
       "      <td>(13, 22, 23, 24, 28, 34, 38, 45, 51, 54, 57, 6...</td>\n",
       "      <td>[0.7990314769975787, 0.7963386727688788, 0.755...</td>\n",
       "      <td>0.796697</td>\n",
       "      <td>(A1_power_delta, T2_STD_D6, T2_power_delta, T2...</td>\n",
       "      <td>0.029041</td>\n",
       "      <td>0.0225949</td>\n",
       "      <td>0.0112974</td>\n",
       "    </tr>\n",
       "    <tr>\n",
       "      <th>19</th>\n",
       "      <td>(13, 22, 23, 24, 28, 34, 38, 44, 45, 51, 54, 5...</td>\n",
       "      <td>[0.8306264501160093, 0.8043956043956044, 0.791...</td>\n",
       "      <td>0.814696</td>\n",
       "      <td>(A1_power_delta, T2_STD_D6, T2_power_delta, T2...</td>\n",
       "      <td>0.0188567</td>\n",
       "      <td>0.0146712</td>\n",
       "      <td>0.00733559</td>\n",
       "    </tr>\n",
       "    <tr>\n",
       "      <th>20</th>\n",
       "      <td>(13, 22, 23, 24, 26, 28, 34, 38, 44, 45, 51, 5...</td>\n",
       "      <td>[0.8290398126463698, 0.8211920529801324, 0.793...</td>\n",
       "      <td>0.82012</td>\n",
       "      <td>(A1_power_delta, T2_STD_D6, T2_power_delta, T2...</td>\n",
       "      <td>0.0177895</td>\n",
       "      <td>0.0138408</td>\n",
       "      <td>0.00692041</td>\n",
       "    </tr>\n",
       "    <tr>\n",
       "      <th>21</th>\n",
       "      <td>(13, 22, 23, 24, 26, 28, 34, 38, 44, 45, 51, 5...</td>\n",
       "      <td>[0.8470066518847007, 0.8300220750551875, 0.791...</td>\n",
       "      <td>0.826455</td>\n",
       "      <td>(A1_power_delta, T2_STD_D6, T2_power_delta, T2...</td>\n",
       "      <td>0.0238411</td>\n",
       "      <td>0.0185492</td>\n",
       "      <td>0.00927458</td>\n",
       "    </tr>\n",
       "    <tr>\n",
       "      <th>22</th>\n",
       "      <td>(13, 22, 23, 24, 26, 28, 34, 38, 44, 45, 51, 5...</td>\n",
       "      <td>[0.8409090909090908, 0.8381374722838137, 0.788...</td>\n",
       "      <td>0.828934</td>\n",
       "      <td>(A1_power_delta, T2_STD_D6, T2_power_delta, T2...</td>\n",
       "      <td>0.0260403</td>\n",
       "      <td>0.0202602</td>\n",
       "      <td>0.0101301</td>\n",
       "    </tr>\n",
       "    <tr>\n",
       "      <th>23</th>\n",
       "      <td>(13, 22, 23, 24, 26, 28, 34, 38, 44, 45, 51, 5...</td>\n",
       "      <td>[0.8487584650112867, 0.8371040723981901, 0.799...</td>\n",
       "      <td>0.831735</td>\n",
       "      <td>(A1_power_delta, T2_STD_D6, T2_power_delta, T2...</td>\n",
       "      <td>0.0219376</td>\n",
       "      <td>0.0170682</td>\n",
       "      <td>0.0085341</td>\n",
       "    </tr>\n",
       "    <tr>\n",
       "      <th>24</th>\n",
       "      <td>(13, 22, 23, 24, 26, 28, 34, 38, 44, 45, 51, 5...</td>\n",
       "      <td>[0.8487584650112867, 0.8371040723981901, 0.807...</td>\n",
       "      <td>0.833589</td>\n",
       "      <td>(A1_power_delta, T2_STD_D6, T2_power_delta, T2...</td>\n",
       "      <td>0.0192916</td>\n",
       "      <td>0.0150095</td>\n",
       "      <td>0.00750477</td>\n",
       "    </tr>\n",
       "    <tr>\n",
       "      <th>25</th>\n",
       "      <td>(13, 20, 22, 23, 24, 26, 28, 34, 38, 44, 45, 5...</td>\n",
       "      <td>[0.8487584650112867, 0.8390022675736962, 0.810...</td>\n",
       "      <td>0.834859</td>\n",
       "      <td>(A1_power_delta, T2_Mean_Abs_D5, T2_STD_D6, T2...</td>\n",
       "      <td>0.0200482</td>\n",
       "      <td>0.0155982</td>\n",
       "      <td>0.00779909</td>\n",
       "    </tr>\n",
       "    <tr>\n",
       "      <th>26</th>\n",
       "      <td>(13, 20, 22, 23, 24, 26, 28, 34, 38, 44, 45, 5...</td>\n",
       "      <td>[0.8494382022471909, 0.8390022675736962, 0.810...</td>\n",
       "      <td>0.836581</td>\n",
       "      <td>(A1_power_delta, T2_Mean_Abs_D5, T2_STD_D6, T2...</td>\n",
       "      <td>0.0207286</td>\n",
       "      <td>0.0161276</td>\n",
       "      <td>0.00806379</td>\n",
       "    </tr>\n",
       "    <tr>\n",
       "      <th>27</th>\n",
       "      <td>(13, 20, 22, 23, 24, 26, 28, 34, 38, 39, 44, 4...</td>\n",
       "      <td>[0.8487584650112867, 0.8409090909090909, 0.801...</td>\n",
       "      <td>0.8362</td>\n",
       "      <td>(A1_power_delta, T2_Mean_Abs_D5, T2_STD_D6, T2...</td>\n",
       "      <td>0.0231681</td>\n",
       "      <td>0.0180256</td>\n",
       "      <td>0.00901279</td>\n",
       "    </tr>\n",
       "    <tr>\n",
       "      <th>28</th>\n",
       "      <td>(13, 20, 22, 23, 24, 26, 28, 34, 38, 39, 44, 4...</td>\n",
       "      <td>[0.8468468468468469, 0.8409090909090909, 0.799...</td>\n",
       "      <td>0.835251</td>\n",
       "      <td>(A1_power_delta, T2_Mean_Abs_D5, T2_STD_D6, T2...</td>\n",
       "      <td>0.0242382</td>\n",
       "      <td>0.0188581</td>\n",
       "      <td>0.00942907</td>\n",
       "    </tr>\n",
       "    <tr>\n",
       "      <th>29</th>\n",
       "      <td>(13, 20, 22, 23, 24, 25, 26, 28, 34, 38, 39, 4...</td>\n",
       "      <td>[0.8461538461538463, 0.8411633109619686, 0.797...</td>\n",
       "      <td>0.834256</td>\n",
       "      <td>(A1_power_delta, T2_Mean_Abs_D5, T2_STD_D6, T2...</td>\n",
       "      <td>0.0244945</td>\n",
       "      <td>0.0190575</td>\n",
       "      <td>0.00952877</td>\n",
       "    </tr>\n",
       "    <tr>\n",
       "      <th>30</th>\n",
       "      <td>(13, 20, 22, 23, 24, 25, 26, 28, 34, 38, 39, 4...</td>\n",
       "      <td>[0.8487584650112867, 0.8366890380313198, 0.803...</td>\n",
       "      <td>0.833699</td>\n",
       "      <td>(A1_power_delta, T2_Mean_Abs_D5, T2_STD_D6, T2...</td>\n",
       "      <td>0.0205988</td>\n",
       "      <td>0.0160266</td>\n",
       "      <td>0.00801328</td>\n",
       "    </tr>\n",
       "  </tbody>\n",
       "</table>\n",
       "</div>"
      ],
      "text/plain": [
       "                                          feature_idx  \\\n",
       "1                                               (64,)   \n",
       "2                                            (64, 71)   \n",
       "3                                        (64, 71, 74)   \n",
       "4                                    (64, 67, 71, 74)   \n",
       "5                                (34, 64, 67, 71, 74)   \n",
       "6                            (34, 51, 64, 67, 71, 74)   \n",
       "7                        (22, 34, 51, 64, 67, 71, 74)   \n",
       "8                    (22, 34, 51, 64, 67, 68, 71, 74)   \n",
       "9                (22, 34, 51, 63, 64, 67, 68, 71, 74)   \n",
       "10           (22, 23, 34, 51, 63, 64, 67, 68, 71, 74)   \n",
       "11       (22, 23, 34, 38, 51, 63, 64, 67, 68, 71, 74)   \n",
       "12   (22, 23, 24, 34, 38, 51, 63, 64, 67, 68, 71, 74)   \n",
       "13  (13, 22, 23, 24, 34, 38, 51, 63, 64, 67, 68, 7...   \n",
       "14  (13, 22, 23, 24, 34, 38, 51, 54, 63, 64, 67, 6...   \n",
       "15  (13, 22, 23, 24, 28, 34, 38, 51, 54, 63, 64, 6...   \n",
       "16  (13, 22, 23, 24, 28, 34, 38, 51, 54, 57, 63, 6...   \n",
       "17  (13, 22, 23, 24, 28, 34, 38, 51, 54, 57, 63, 6...   \n",
       "18  (13, 22, 23, 24, 28, 34, 38, 45, 51, 54, 57, 6...   \n",
       "19  (13, 22, 23, 24, 28, 34, 38, 44, 45, 51, 54, 5...   \n",
       "20  (13, 22, 23, 24, 26, 28, 34, 38, 44, 45, 51, 5...   \n",
       "21  (13, 22, 23, 24, 26, 28, 34, 38, 44, 45, 51, 5...   \n",
       "22  (13, 22, 23, 24, 26, 28, 34, 38, 44, 45, 51, 5...   \n",
       "23  (13, 22, 23, 24, 26, 28, 34, 38, 44, 45, 51, 5...   \n",
       "24  (13, 22, 23, 24, 26, 28, 34, 38, 44, 45, 51, 5...   \n",
       "25  (13, 20, 22, 23, 24, 26, 28, 34, 38, 44, 45, 5...   \n",
       "26  (13, 20, 22, 23, 24, 26, 28, 34, 38, 44, 45, 5...   \n",
       "27  (13, 20, 22, 23, 24, 26, 28, 34, 38, 39, 44, 4...   \n",
       "28  (13, 20, 22, 23, 24, 26, 28, 34, 38, 39, 44, 4...   \n",
       "29  (13, 20, 22, 23, 24, 25, 26, 28, 34, 38, 39, 4...   \n",
       "30  (13, 20, 22, 23, 24, 25, 26, 28, 34, 38, 39, 4...   \n",
       "\n",
       "                                            cv_scores avg_score  \\\n",
       "1   [0.7127158555729983, 0.7070063694267517, 0.709...  0.706207   \n",
       "2   [0.7097791798107256, 0.7710371819960861, 0.707...  0.729305   \n",
       "3   [0.7595419847328244, 0.7886178861788617, 0.752...  0.755061   \n",
       "4   [0.7716535433070866, 0.7967479674796748, 0.752...  0.759481   \n",
       "5   [0.7793814432989692, 0.7959183673469388, 0.761...  0.761106   \n",
       "6   [0.7803738317757009, 0.7861507128309572, 0.758...   0.75987   \n",
       "7   [0.7832167832167832, 0.8103448275862069, 0.761...  0.763472   \n",
       "8   [0.7832167832167832, 0.8130434782608696, 0.750...   0.76212   \n",
       "9   [0.793577981651376, 0.8009049773755655, 0.7629...  0.761808   \n",
       "10  [0.7963386727688787, 0.7872763419483102, 0.765...  0.758915   \n",
       "11  [0.7990867579908676, 0.8086021505376343, 0.752...  0.759509   \n",
       "12  [0.7990867579908676, 0.8051391862955032, 0.755...  0.760114   \n",
       "13  [0.7770961145194274, 0.8018648018648019, 0.755...  0.755977   \n",
       "14  [0.7836538461538461, 0.7892156862745098, 0.769...   0.76072   \n",
       "15  [0.7873303167420815, 0.8133333333333332, 0.764...  0.766064   \n",
       "16  [0.8077753779697625, 0.8115299334811529, 0.754...  0.768197   \n",
       "17  [0.8103448275862069, 0.8136363636363636, 0.753...  0.771669   \n",
       "18  [0.7990314769975787, 0.7963386727688788, 0.755...  0.796697   \n",
       "19  [0.8306264501160093, 0.8043956043956044, 0.791...  0.814696   \n",
       "20  [0.8290398126463698, 0.8211920529801324, 0.793...   0.82012   \n",
       "21  [0.8470066518847007, 0.8300220750551875, 0.791...  0.826455   \n",
       "22  [0.8409090909090908, 0.8381374722838137, 0.788...  0.828934   \n",
       "23  [0.8487584650112867, 0.8371040723981901, 0.799...  0.831735   \n",
       "24  [0.8487584650112867, 0.8371040723981901, 0.807...  0.833589   \n",
       "25  [0.8487584650112867, 0.8390022675736962, 0.810...  0.834859   \n",
       "26  [0.8494382022471909, 0.8390022675736962, 0.810...  0.836581   \n",
       "27  [0.8487584650112867, 0.8409090909090909, 0.801...    0.8362   \n",
       "28  [0.8468468468468469, 0.8409090909090909, 0.799...  0.835251   \n",
       "29  [0.8461538461538463, 0.8411633109619686, 0.797...  0.834256   \n",
       "30  [0.8487584650112867, 0.8366890380313198, 0.803...  0.833699   \n",
       "\n",
       "                                        feature_names    ci_bound    std_dev  \\\n",
       "1                                        (T1_STD_D5,)  0.00608212  0.0047321   \n",
       "2                         (T1_STD_D5, F7_Mean_Abs_D6)    0.035252  0.0274272   \n",
       "3              (T1_STD_D5, F7_Mean_Abs_D6, F7_STD_D5)   0.0292634  0.0227679   \n",
       "4   (T1_STD_D5, T1_Mean_Abs_D1, F7_Mean_Abs_D6, F7...    0.031642  0.0246185   \n",
       "5   (F8_STD_D5, T1_STD_D5, T1_Mean_Abs_D1, F7_Mean...   0.0333662    0.02596   \n",
       "6   (F8_STD_D5, T6_Mean_Abs_D6, T1_STD_D5, T1_Mean...   0.0335354  0.0260917   \n",
       "7   (T2_STD_D6, F8_STD_D5, T6_Mean_Abs_D6, T1_STD_...   0.0424739  0.0330461   \n",
       "8   (T2_STD_D6, F8_STD_D5, T6_Mean_Abs_D6, T1_STD_...   0.0439523  0.0341964   \n",
       "9   (T2_STD_D6, F8_STD_D5, T6_Mean_Abs_D6, T1_powe...   0.0450117  0.0350207   \n",
       "10  (T2_STD_D6, T2_power_delta, F8_STD_D5, T6_Mean...    0.041637   0.032395   \n",
       "11  (T2_STD_D6, T2_power_delta, F8_STD_D5, F8_powe...   0.0501146  0.0389909   \n",
       "12  (T2_STD_D6, T2_power_delta, T2_STD_D5, F8_STD_...   0.0477455  0.0371476   \n",
       "13  (A1_power_delta, T2_STD_D6, T2_power_delta, T2...   0.0437442  0.0340344   \n",
       "14  (A1_power_delta, T2_STD_D6, T2_power_delta, T2...   0.0371679  0.0289179   \n",
       "15  (A1_power_delta, T2_STD_D6, T2_power_delta, T2...   0.0433277  0.0337104   \n",
       "16  (A1_power_delta, T2_STD_D6, T2_power_delta, T2...   0.0470805  0.0366303   \n",
       "17  (A1_power_delta, T2_STD_D6, T2_power_delta, T2...   0.0440951  0.0343075   \n",
       "18  (A1_power_delta, T2_STD_D6, T2_power_delta, T2...    0.029041  0.0225949   \n",
       "19  (A1_power_delta, T2_STD_D6, T2_power_delta, T2...   0.0188567  0.0146712   \n",
       "20  (A1_power_delta, T2_STD_D6, T2_power_delta, T2...   0.0177895  0.0138408   \n",
       "21  (A1_power_delta, T2_STD_D6, T2_power_delta, T2...   0.0238411  0.0185492   \n",
       "22  (A1_power_delta, T2_STD_D6, T2_power_delta, T2...   0.0260403  0.0202602   \n",
       "23  (A1_power_delta, T2_STD_D6, T2_power_delta, T2...   0.0219376  0.0170682   \n",
       "24  (A1_power_delta, T2_STD_D6, T2_power_delta, T2...   0.0192916  0.0150095   \n",
       "25  (A1_power_delta, T2_Mean_Abs_D5, T2_STD_D6, T2...   0.0200482  0.0155982   \n",
       "26  (A1_power_delta, T2_Mean_Abs_D5, T2_STD_D6, T2...   0.0207286  0.0161276   \n",
       "27  (A1_power_delta, T2_Mean_Abs_D5, T2_STD_D6, T2...   0.0231681  0.0180256   \n",
       "28  (A1_power_delta, T2_Mean_Abs_D5, T2_STD_D6, T2...   0.0242382  0.0188581   \n",
       "29  (A1_power_delta, T2_Mean_Abs_D5, T2_STD_D6, T2...   0.0244945  0.0190575   \n",
       "30  (A1_power_delta, T2_Mean_Abs_D5, T2_STD_D6, T2...   0.0205988  0.0160266   \n",
       "\n",
       "       std_err  \n",
       "1   0.00236605  \n",
       "2    0.0137136  \n",
       "3     0.011384  \n",
       "4    0.0123093  \n",
       "5      0.01298  \n",
       "6    0.0130459  \n",
       "7    0.0165231  \n",
       "8    0.0170982  \n",
       "9    0.0175103  \n",
       "10   0.0161975  \n",
       "11   0.0194954  \n",
       "12   0.0185738  \n",
       "13   0.0170172  \n",
       "14   0.0144589  \n",
       "15   0.0168552  \n",
       "16   0.0183151  \n",
       "17   0.0171537  \n",
       "18   0.0112974  \n",
       "19  0.00733559  \n",
       "20  0.00692041  \n",
       "21  0.00927458  \n",
       "22   0.0101301  \n",
       "23   0.0085341  \n",
       "24  0.00750477  \n",
       "25  0.00779909  \n",
       "26  0.00806379  \n",
       "27  0.00901279  \n",
       "28  0.00942907  \n",
       "29  0.00952877  \n",
       "30  0.00801328  "
      ]
     },
     "metadata": {},
     "output_type": "display_data"
    },
    {
     "name": "stdout",
     "output_type": "stream",
     "text": [
      "Wall time: 1h 16min 49s\n"
     ]
    }
   ],
   "source": [
    "%%time\n",
    "from mlxtend.feature_selection import SequentialFeatureSelector\n",
    "from mlxtend.plotting import plot_sequential_feature_selection as plot_sfs\n",
    "\n",
    "\n",
    "indices=np.arange(100)\n",
    "sfs = SequentialFeatureSelector(pipe_svc_linear,\n",
    "                                k_features=30, \n",
    "                                forward=True, \n",
    "                                floating=False, \n",
    "                                verbose=2,\n",
    "                                scoring='f1',\n",
    "                                cv=StratKFold,\n",
    "                                n_jobs=-1)\n",
    "\n",
    "sfs.fit(X_train, y_train, custom_feature_names=X_train.columns[indices])\n",
    "display(pd.DataFrame.from_dict(sfs.get_metric_dict()).T)\n",
    "dat=pd.DataFrame.from_dict(sfs.get_metric_dict()).T\n"
   ]
  },
  {
   "cell_type": "code",
   "execution_count": 134,
   "metadata": {},
   "outputs": [
    {
     "data": {
      "image/png": "[encoded data removed]",
      "text/plain": [
       "<Figure size 432x288 with 1 Axes>"
      ]
     },
     "metadata": {
      "needs_background": "light"
     },
     "output_type": "display_data"
    },
    {
     "data": {
      "text/plain": [
       "<Figure size 720x2160 with 0 Axes>"
      ]
     },
     "metadata": {},
     "output_type": "display_data"
    }
   ],
   "source": [
    "fig1 = plot_sfs(sfs.get_metric_dict(), kind='std_dev')\n",
    "plt.title('Sequential Forward Selection (w. StdDev)')\n",
    "plt.grid()\n",
    "plt.figure(figsize=(10,30))\n",
    "\n",
    "plt.show()"
   ]
  },
  {
   "cell_type": "markdown",
   "metadata": {},
   "source": [
    "#### The max 'avg_score'"
   ]
  },
  {
   "cell_type": "code",
   "execution_count": 135,
   "metadata": {},
   "outputs": [
    {
     "data": {
      "text/plain": [
       "0.8365812680003419"
      ]
     },
     "execution_count": 135,
     "metadata": {},
     "output_type": "execute_result"
    }
   ],
   "source": [
    "max_avg=dat['avg_score'].max()\n",
    "max_avg"
   ]
  },
  {
   "cell_type": "code",
   "execution_count": 136,
   "metadata": {},
   "outputs": [
    {
     "data": {
      "text/plain": [
       "[('A1_power_delta',\n",
       "  'T2_Mean_Abs_D5',\n",
       "  'T2_STD_D6',\n",
       "  'T2_power_delta',\n",
       "  'T2_STD_D5',\n",
       "  'T2_STD_D3',\n",
       "  'T2_power_alpha',\n",
       "  'F8_STD_D5',\n",
       "  'F8_power_alpha',\n",
       "  'T4_STD_D5',\n",
       "  'T4_Mean_Abs_D4',\n",
       "  'T6_Mean_Abs_D6',\n",
       "  'T6_STD_D5',\n",
       "  'T6_Mean_Abs_D1',\n",
       "  'T1_Mean_Abs_D6',\n",
       "  'T1_power_delta',\n",
       "  'T1_STD_D5',\n",
       "  'T1_STD_D3',\n",
       "  'T1_Mean_Abs_D1',\n",
       "  'T1_power_alpha',\n",
       "  'F7_Mean_Abs_D6',\n",
       "  'F7_STD_D6',\n",
       "  'F7_STD_D5',\n",
       "  'O1_Mean_Abs_D3',\n",
       "  'O2_Mean_Abs_D5',\n",
       "  'O2_STD_D3')]"
      ]
     },
     "execution_count": 136,
     "metadata": {},
     "output_type": "execute_result"
    }
   ],
   "source": [
    "list(dat[dat['avg_score']==max_avg]['feature_names'])"
   ]
  },
  {
   "cell_type": "code",
   "execution_count": 16,
   "metadata": {},
   "outputs": [],
   "source": [
    "feature_seq=['A1_power_delta',\n",
    "  'T2_Mean_Abs_D5',\n",
    "  'T2_STD_D6',\n",
    "  'T2_power_delta',\n",
    "  'T2_STD_D5',\n",
    "  'T2_STD_D3',\n",
    "  'T2_power_alpha',\n",
    "  'F8_STD_D5',\n",
    "  'F8_power_alpha',\n",
    "  'T4_STD_D5',\n",
    "  'T4_Mean_Abs_D4',\n",
    "  'T6_Mean_Abs_D6',\n",
    "  'T6_STD_D5',\n",
    "  'T6_Mean_Abs_D1',\n",
    "  'T1_Mean_Abs_D6',\n",
    "  'T1_power_delta',\n",
    "  'T1_STD_D5',\n",
    "  'T1_STD_D3',\n",
    "  'T1_Mean_Abs_D1',\n",
    "  'T1_power_alpha',\n",
    "  'F7_Mean_Abs_D6',\n",
    "  'F7_STD_D6',\n",
    "  'F7_STD_D5',\n",
    "  'O1_Mean_Abs_D3',\n",
    "  'O2_Mean_Abs_D5',\n",
    "  'O2_STD_D3']"
   ]
  },
  {
   "cell_type": "code",
   "execution_count": 17,
   "metadata": {},
   "outputs": [
    {
     "data": {
      "text/plain": [
       "26"
      ]
     },
     "execution_count": 17,
     "metadata": {},
     "output_type": "execute_result"
    }
   ],
   "source": [
    "len(feature_seq)"
   ]
  },
  {
   "cell_type": "markdown",
   "metadata": {},
   "source": [
    "# Final Data"
   ]
  },
  {
   "cell_type": "code",
   "execution_count": 18,
   "metadata": {},
   "outputs": [
    {
     "data": {
      "text/html": [
       "<div>\n",
       "<style scoped>\n",
       "    .dataframe tbody tr th:only-of-type {\n",
       "        vertical-align: middle;\n",
       "    }\n",
       "\n",
       "    .dataframe tbody tr th {\n",
       "        vertical-align: top;\n",
       "    }\n",
       "\n",
       "    .dataframe thead th {\n",
       "        text-align: right;\n",
       "    }\n",
       "</style>\n",
       "<table border=\"1\" class=\"dataframe\">\n",
       "  <thead>\n",
       "    <tr style=\"text-align: right;\">\n",
       "      <th></th>\n",
       "      <th>A1_power_delta</th>\n",
       "      <th>T2_Mean_Abs_D5</th>\n",
       "      <th>T2_STD_D6</th>\n",
       "      <th>T2_power_delta</th>\n",
       "      <th>T2_STD_D5</th>\n",
       "      <th>T2_STD_D3</th>\n",
       "      <th>T2_power_alpha</th>\n",
       "      <th>F8_STD_D5</th>\n",
       "      <th>F8_power_alpha</th>\n",
       "      <th>T4_STD_D5</th>\n",
       "      <th>...</th>\n",
       "      <th>T1_STD_D5</th>\n",
       "      <th>T1_STD_D3</th>\n",
       "      <th>T1_Mean_Abs_D1</th>\n",
       "      <th>T1_power_alpha</th>\n",
       "      <th>F7_Mean_Abs_D6</th>\n",
       "      <th>F7_STD_D6</th>\n",
       "      <th>F7_STD_D5</th>\n",
       "      <th>O1_Mean_Abs_D3</th>\n",
       "      <th>O2_Mean_Abs_D5</th>\n",
       "      <th>O2_STD_D3</th>\n",
       "    </tr>\n",
       "  </thead>\n",
       "  <tbody>\n",
       "    <tr>\n",
       "      <th>0</th>\n",
       "      <td>24.710986</td>\n",
       "      <td>22.231348</td>\n",
       "      <td>31.616855</td>\n",
       "      <td>27.786890</td>\n",
       "      <td>30.361658</td>\n",
       "      <td>20.604458</td>\n",
       "      <td>6.707438</td>\n",
       "      <td>30.764537</td>\n",
       "      <td>8.165282</td>\n",
       "      <td>35.114478</td>\n",
       "      <td>...</td>\n",
       "      <td>28.090832</td>\n",
       "      <td>16.978149</td>\n",
       "      <td>2.895882</td>\n",
       "      <td>4.524109</td>\n",
       "      <td>27.913027</td>\n",
       "      <td>38.195532</td>\n",
       "      <td>28.545601</td>\n",
       "      <td>17.595063</td>\n",
       "      <td>21.486506</td>\n",
       "      <td>29.826645</td>\n",
       "    </tr>\n",
       "    <tr>\n",
       "      <th>1</th>\n",
       "      <td>20.227762</td>\n",
       "      <td>97.072629</td>\n",
       "      <td>189.358288</td>\n",
       "      <td>333.201574</td>\n",
       "      <td>121.428051</td>\n",
       "      <td>27.602988</td>\n",
       "      <td>13.537637</td>\n",
       "      <td>145.615550</td>\n",
       "      <td>24.444237</td>\n",
       "      <td>168.841943</td>\n",
       "      <td>...</td>\n",
       "      <td>46.447095</td>\n",
       "      <td>18.198715</td>\n",
       "      <td>17.355866</td>\n",
       "      <td>4.909165</td>\n",
       "      <td>113.761849</td>\n",
       "      <td>141.209838</td>\n",
       "      <td>88.518189</td>\n",
       "      <td>16.448751</td>\n",
       "      <td>84.824403</td>\n",
       "      <td>26.912366</td>\n",
       "    </tr>\n",
       "    <tr>\n",
       "      <th>2</th>\n",
       "      <td>932.919768</td>\n",
       "      <td>76.503962</td>\n",
       "      <td>151.366288</td>\n",
       "      <td>259.544003</td>\n",
       "      <td>100.471939</td>\n",
       "      <td>23.490663</td>\n",
       "      <td>10.222830</td>\n",
       "      <td>117.213557</td>\n",
       "      <td>14.983113</td>\n",
       "      <td>129.205653</td>\n",
       "      <td>...</td>\n",
       "      <td>132.435246</td>\n",
       "      <td>29.088450</td>\n",
       "      <td>10.395467</td>\n",
       "      <td>14.575363</td>\n",
       "      <td>79.966525</td>\n",
       "      <td>104.181084</td>\n",
       "      <td>71.877151</td>\n",
       "      <td>13.647678</td>\n",
       "      <td>66.288761</td>\n",
       "      <td>22.043434</td>\n",
       "    </tr>\n",
       "    <tr>\n",
       "      <th>3</th>\n",
       "      <td>60.762061</td>\n",
       "      <td>31.999887</td>\n",
       "      <td>78.221059</td>\n",
       "      <td>65.821145</td>\n",
       "      <td>41.332955</td>\n",
       "      <td>14.052233</td>\n",
       "      <td>3.476743</td>\n",
       "      <td>40.849492</td>\n",
       "      <td>4.045810</td>\n",
       "      <td>42.212590</td>\n",
       "      <td>...</td>\n",
       "      <td>36.920877</td>\n",
       "      <td>12.545515</td>\n",
       "      <td>2.199328</td>\n",
       "      <td>2.730057</td>\n",
       "      <td>49.228840</td>\n",
       "      <td>62.278454</td>\n",
       "      <td>34.216758</td>\n",
       "      <td>8.180632</td>\n",
       "      <td>30.973314</td>\n",
       "      <td>13.090136</td>\n",
       "    </tr>\n",
       "    <tr>\n",
       "      <th>4</th>\n",
       "      <td>66.289767</td>\n",
       "      <td>32.615039</td>\n",
       "      <td>92.256135</td>\n",
       "      <td>91.495775</td>\n",
       "      <td>41.643783</td>\n",
       "      <td>12.658618</td>\n",
       "      <td>2.952659</td>\n",
       "      <td>40.301461</td>\n",
       "      <td>3.414688</td>\n",
       "      <td>42.019778</td>\n",
       "      <td>...</td>\n",
       "      <td>38.750240</td>\n",
       "      <td>12.218786</td>\n",
       "      <td>0.988980</td>\n",
       "      <td>2.694537</td>\n",
       "      <td>53.306166</td>\n",
       "      <td>66.977502</td>\n",
       "      <td>35.786748</td>\n",
       "      <td>7.756828</td>\n",
       "      <td>30.635071</td>\n",
       "      <td>10.971266</td>\n",
       "    </tr>\n",
       "    <tr>\n",
       "      <th>...</th>\n",
       "      <td>...</td>\n",
       "      <td>...</td>\n",
       "      <td>...</td>\n",
       "      <td>...</td>\n",
       "      <td>...</td>\n",
       "      <td>...</td>\n",
       "      <td>...</td>\n",
       "      <td>...</td>\n",
       "      <td>...</td>\n",
       "      <td>...</td>\n",
       "      <td>...</td>\n",
       "      <td>...</td>\n",
       "      <td>...</td>\n",
       "      <td>...</td>\n",
       "      <td>...</td>\n",
       "      <td>...</td>\n",
       "      <td>...</td>\n",
       "      <td>...</td>\n",
       "      <td>...</td>\n",
       "      <td>...</td>\n",
       "      <td>...</td>\n",
       "    </tr>\n",
       "    <tr>\n",
       "      <th>2211</th>\n",
       "      <td>311.094162</td>\n",
       "      <td>83.816626</td>\n",
       "      <td>140.425173</td>\n",
       "      <td>296.692699</td>\n",
       "      <td>109.244097</td>\n",
       "      <td>27.258334</td>\n",
       "      <td>13.992073</td>\n",
       "      <td>121.818319</td>\n",
       "      <td>13.407503</td>\n",
       "      <td>113.905887</td>\n",
       "      <td>...</td>\n",
       "      <td>101.419432</td>\n",
       "      <td>26.842247</td>\n",
       "      <td>5.845724</td>\n",
       "      <td>13.727962</td>\n",
       "      <td>83.216359</td>\n",
       "      <td>110.051317</td>\n",
       "      <td>81.749236</td>\n",
       "      <td>22.151428</td>\n",
       "      <td>79.645676</td>\n",
       "      <td>30.815601</td>\n",
       "    </tr>\n",
       "    <tr>\n",
       "      <th>2212</th>\n",
       "      <td>25.660341</td>\n",
       "      <td>68.021196</td>\n",
       "      <td>160.387301</td>\n",
       "      <td>224.760787</td>\n",
       "      <td>87.113371</td>\n",
       "      <td>17.984831</td>\n",
       "      <td>6.240994</td>\n",
       "      <td>115.316692</td>\n",
       "      <td>9.707153</td>\n",
       "      <td>98.514156</td>\n",
       "      <td>...</td>\n",
       "      <td>52.216124</td>\n",
       "      <td>12.142981</td>\n",
       "      <td>8.119694</td>\n",
       "      <td>2.905830</td>\n",
       "      <td>123.859961</td>\n",
       "      <td>152.808666</td>\n",
       "      <td>82.884088</td>\n",
       "      <td>20.614395</td>\n",
       "      <td>73.881114</td>\n",
       "      <td>28.137599</td>\n",
       "    </tr>\n",
       "    <tr>\n",
       "      <th>2213</th>\n",
       "      <td>54.083692</td>\n",
       "      <td>63.824628</td>\n",
       "      <td>143.361411</td>\n",
       "      <td>194.634459</td>\n",
       "      <td>81.349960</td>\n",
       "      <td>17.255417</td>\n",
       "      <td>5.746060</td>\n",
       "      <td>106.517838</td>\n",
       "      <td>8.918590</td>\n",
       "      <td>97.169565</td>\n",
       "      <td>...</td>\n",
       "      <td>45.876771</td>\n",
       "      <td>10.518244</td>\n",
       "      <td>5.361158</td>\n",
       "      <td>2.158590</td>\n",
       "      <td>110.544595</td>\n",
       "      <td>139.362831</td>\n",
       "      <td>77.650617</td>\n",
       "      <td>20.073896</td>\n",
       "      <td>74.048495</td>\n",
       "      <td>28.272876</td>\n",
       "    </tr>\n",
       "    <tr>\n",
       "      <th>2214</th>\n",
       "      <td>12.031978</td>\n",
       "      <td>43.595752</td>\n",
       "      <td>122.023802</td>\n",
       "      <td>142.363077</td>\n",
       "      <td>55.226439</td>\n",
       "      <td>18.599654</td>\n",
       "      <td>5.711902</td>\n",
       "      <td>75.180583</td>\n",
       "      <td>10.341836</td>\n",
       "      <td>61.550286</td>\n",
       "      <td>...</td>\n",
       "      <td>33.005800</td>\n",
       "      <td>9.073414</td>\n",
       "      <td>1.098935</td>\n",
       "      <td>1.423875</td>\n",
       "      <td>86.743724</td>\n",
       "      <td>108.038944</td>\n",
       "      <td>53.391435</td>\n",
       "      <td>14.312159</td>\n",
       "      <td>46.610193</td>\n",
       "      <td>21.882210</td>\n",
       "    </tr>\n",
       "    <tr>\n",
       "      <th>2215</th>\n",
       "      <td>22.649807</td>\n",
       "      <td>17.032424</td>\n",
       "      <td>40.086943</td>\n",
       "      <td>20.773179</td>\n",
       "      <td>22.644345</td>\n",
       "      <td>15.703461</td>\n",
       "      <td>4.135783</td>\n",
       "      <td>20.203284</td>\n",
       "      <td>5.486507</td>\n",
       "      <td>24.820877</td>\n",
       "      <td>...</td>\n",
       "      <td>24.641700</td>\n",
       "      <td>13.820739</td>\n",
       "      <td>6.974760</td>\n",
       "      <td>3.232001</td>\n",
       "      <td>27.422452</td>\n",
       "      <td>35.360200</td>\n",
       "      <td>19.629276</td>\n",
       "      <td>6.373785</td>\n",
       "      <td>17.589491</td>\n",
       "      <td>8.147470</td>\n",
       "    </tr>\n",
       "  </tbody>\n",
       "</table>\n",
       "<p>2216 rows × 26 columns</p>\n",
       "</div>"
      ],
      "text/plain": [
       "      A1_power_delta  T2_Mean_Abs_D5   T2_STD_D6  T2_power_delta   T2_STD_D5  \\\n",
       "0          24.710986       22.231348   31.616855       27.786890   30.361658   \n",
       "1          20.227762       97.072629  189.358288      333.201574  121.428051   \n",
       "2         932.919768       76.503962  151.366288      259.544003  100.471939   \n",
       "3          60.762061       31.999887   78.221059       65.821145   41.332955   \n",
       "4          66.289767       32.615039   92.256135       91.495775   41.643783   \n",
       "...              ...             ...         ...             ...         ...   \n",
       "2211      311.094162       83.816626  140.425173      296.692699  109.244097   \n",
       "2212       25.660341       68.021196  160.387301      224.760787   87.113371   \n",
       "2213       54.083692       63.824628  143.361411      194.634459   81.349960   \n",
       "2214       12.031978       43.595752  122.023802      142.363077   55.226439   \n",
       "2215       22.649807       17.032424   40.086943       20.773179   22.644345   \n",
       "\n",
       "      T2_STD_D3  T2_power_alpha   F8_STD_D5  F8_power_alpha   T4_STD_D5  ...  \\\n",
       "0     20.604458        6.707438   30.764537        8.165282   35.114478  ...   \n",
       "1     27.602988       13.537637  145.615550       24.444237  168.841943  ...   \n",
       "2     23.490663       10.222830  117.213557       14.983113  129.205653  ...   \n",
       "3     14.052233        3.476743   40.849492        4.045810   42.212590  ...   \n",
       "4     12.658618        2.952659   40.301461        3.414688   42.019778  ...   \n",
       "...         ...             ...         ...             ...         ...  ...   \n",
       "2211  27.258334       13.992073  121.818319       13.407503  113.905887  ...   \n",
       "2212  17.984831        6.240994  115.316692        9.707153   98.514156  ...   \n",
       "2213  17.255417        5.746060  106.517838        8.918590   97.169565  ...   \n",
       "2214  18.599654        5.711902   75.180583       10.341836   61.550286  ...   \n",
       "2215  15.703461        4.135783   20.203284        5.486507   24.820877  ...   \n",
       "\n",
       "       T1_STD_D5  T1_STD_D3  T1_Mean_Abs_D1  T1_power_alpha  F7_Mean_Abs_D6  \\\n",
       "0      28.090832  16.978149        2.895882        4.524109       27.913027   \n",
       "1      46.447095  18.198715       17.355866        4.909165      113.761849   \n",
       "2     132.435246  29.088450       10.395467       14.575363       79.966525   \n",
       "3      36.920877  12.545515        2.199328        2.730057       49.228840   \n",
       "4      38.750240  12.218786        0.988980        2.694537       53.306166   \n",
       "...          ...        ...             ...             ...             ...   \n",
       "2211  101.419432  26.842247        5.845724       13.727962       83.216359   \n",
       "2212   52.216124  12.142981        8.119694        2.905830      123.859961   \n",
       "2213   45.876771  10.518244        5.361158        2.158590      110.544595   \n",
       "2214   33.005800   9.073414        1.098935        1.423875       86.743724   \n",
       "2215   24.641700  13.820739        6.974760        3.232001       27.422452   \n",
       "\n",
       "       F7_STD_D6  F7_STD_D5  O1_Mean_Abs_D3  O2_Mean_Abs_D5  O2_STD_D3  \n",
       "0      38.195532  28.545601       17.595063       21.486506  29.826645  \n",
       "1     141.209838  88.518189       16.448751       84.824403  26.912366  \n",
       "2     104.181084  71.877151       13.647678       66.288761  22.043434  \n",
       "3      62.278454  34.216758        8.180632       30.973314  13.090136  \n",
       "4      66.977502  35.786748        7.756828       30.635071  10.971266  \n",
       "...          ...        ...             ...             ...        ...  \n",
       "2211  110.051317  81.749236       22.151428       79.645676  30.815601  \n",
       "2212  152.808666  82.884088       20.614395       73.881114  28.137599  \n",
       "2213  139.362831  77.650617       20.073896       74.048495  28.272876  \n",
       "2214  108.038944  53.391435       14.312159       46.610193  21.882210  \n",
       "2215   35.360200  19.629276        6.373785       17.589491   8.147470  \n",
       "\n",
       "[2216 rows x 26 columns]"
      ]
     },
     "execution_count": 18,
     "metadata": {},
     "output_type": "execute_result"
    }
   ],
   "source": [
    "data_x=data_x[feature_seq]\n",
    "data_x"
   ]
  },
  {
   "cell_type": "code",
   "execution_count": 19,
   "metadata": {},
   "outputs": [],
   "source": [
    "from sklearn.model_selection import train_test_split\n",
    "TEST_SIZE = 0.2\n",
    "RANDOM_STATE=0\n",
    "X_train, X_test, y_train, y_test = train_test_split(data_x, data_y, stratify=data_y,\n",
    "                                                    test_size=TEST_SIZE, \n",
    "                                                    random_state=RANDOM_STATE)\n",
    "\n"
   ]
  },
  {
   "cell_type": "code",
   "execution_count": 20,
   "metadata": {},
   "outputs": [],
   "source": [
    "from sklearn.preprocessing import StandardScaler\n",
    "\n",
    "scaler = StandardScaler()\n",
    "X_train= scaler.fit_transform(X_train)\n",
    "X_test= scaler.transform(X_test)"
   ]
  },
  {
   "cell_type": "markdown",
   "metadata": {},
   "source": [
    "# Modeling & Evaluation"
   ]
  },
  {
   "cell_type": "markdown",
   "metadata": {},
   "source": [
    "## 1) LogisticRegression"
   ]
  },
  {
   "cell_type": "code",
   "execution_count": 73,
   "metadata": {},
   "outputs": [
    {
     "data": {
      "text/plain": [
       "{'penalty': 'l1', 'solver': 'liblinear'}"
      ]
     },
     "execution_count": 73,
     "metadata": {},
     "output_type": "execute_result"
    }
   ],
   "source": [
    "from sklearn.linear_model import LogisticRegression\n",
    "from sklearn.model_selection import GridSearchCV\n",
    "\n",
    "\n",
    "log = LogisticRegression(random_state=0,max_iter=100)\n",
    "param =  {'penalty': ['l1', 'l2', 'elasticnet', 'none'],\n",
    "          'solver': ['lbfgs', 'liblinear', 'sag', 'saga']}\n",
    "\n",
    "lg_grid = GridSearchCV(log, param_grid=param, cv =5, n_jobs=-1)\n",
    "lg_grid.fit(X_train, y_train)\n",
    "lg_grid.best_params_"
   ]
  },
  {
   "cell_type": "code",
   "execution_count": 81,
   "metadata": {},
   "outputs": [
    {
     "name": "stdout",
     "output_type": "stream",
     "text": [
      "\u001b[1mTrain score : \u001b[0m 0.8154627539503386\n",
      "\u001b[1mTest score : \u001b[0m 0.8265765765765766\n"
     ]
    }
   ],
   "source": [
    "from sklearn.linear_model import LogisticRegression\n",
    "\n",
    "log_model=LogisticRegression(random_state=0,max_iter=100,penalty='l1' , solver='liblinear')\n",
    "\n",
    "log_model.fit(X_train,y_train)\n",
    "print(color.BOLD+'Train score : '+color.END ,log_model.score(X_train,y_train))\n",
    "print(color.BOLD+'Test score : '+color.END ,log_model.score(X_test,y_test))"
   ]
  },
  {
   "cell_type": "code",
   "execution_count": 82,
   "metadata": {},
   "outputs": [
    {
     "data": {
      "image/png": "[encoded data removed]",
      "text/plain": [
       "<Figure size 432x288 with 2 Axes>"
      ]
     },
     "metadata": {
      "needs_background": "light"
     },
     "output_type": "display_data"
    }
   ],
   "source": [
    "from sklearn.metrics import plot_confusion_matrix\n",
    "\n",
    "\n",
    "plot_confusion_matrix(log_model,X_test,y_test,cmap=plt.cm.Blues);"
   ]
  },
  {
   "cell_type": "code",
   "execution_count": 83,
   "metadata": {},
   "outputs": [
    {
     "name": "stdout",
     "output_type": "stream",
     "text": [
      "              precision    recall  f1-score   support\n",
      "\n",
      "No Epileptic     0.8289    0.7750    0.8010       200\n",
      "   Epileptic     0.8249    0.8689    0.8463       244\n",
      "\n",
      "    accuracy                         0.8266       444\n",
      "   macro avg     0.8269    0.8219    0.8237       444\n",
      "weighted avg     0.8267    0.8266    0.8259       444\n",
      "\n"
     ]
    }
   ],
   "source": [
    "from sklearn.metrics import classification_report\n",
    "\n",
    "y_pred=log_model.predict(X_test)\n",
    "print(classification_report(y_test,y_pred,target_names=['No Epileptic', 'Epileptic'],digits=4))"
   ]
  },
  {
   "cell_type": "code",
   "execution_count": 85,
   "metadata": {},
   "outputs": [
    {
     "data": {
      "image/png": "[encoded data removed]",
      "text/plain": [
       "<Figure size 432x288 with 1 Axes>"
      ]
     },
     "metadata": {},
     "output_type": "display_data"
    },
    {
     "data": {
      "image/png": "[encoded data removed]",
      "text/plain": [
       "<Figure size 432x288 with 1 Axes>"
      ]
     },
     "metadata": {},
     "output_type": "display_data"
    }
   ],
   "source": [
    "from mlxtend.plotting import plot_learning_curves\n",
    "\n",
    "learning_curve_scoring = ['accuracy', 'precision']\n",
    "\n",
    "\n",
    "#print(color.BOLD+color.UNDERLINE+classifier_names[1]+color.END)\n",
    "for scoring_method in learning_curve_scoring:\n",
    "  plot_learning_curves(X_train, y_train, X_test, y_test, log_model, \n",
    "                       train_marker='o', test_marker='^', \n",
    "                       scoring=scoring_method, print_model =False)\n",
    "  if scoring_method in ['accuracy', 'precision']:\n",
    "      plt.ylim(top=1.01)\n",
    "  plt.show()"
   ]
  },
  {
   "cell_type": "code",
   "execution_count": 87,
   "metadata": {},
   "outputs": [
    {
     "data": {
      "image/png": "[encoded data removed]",
      "text/plain": [
       "<Figure size 432x288 with 1 Axes>"
      ]
     },
     "metadata": {
      "needs_background": "light"
     },
     "output_type": "display_data"
    }
   ],
   "source": [
    "from sklearn.model_selection import learning_curve\n",
    "train_size, train_score, test_score = learning_curve(log_model, X_train, y_train, train_sizes=np.linspace(0.1,1,50), cv=10, random_state=3 )\n",
    "plt.plot(train_size, train_score.mean(axis=1), train_size, test_score.mean(axis=1))\n",
    "plt.legend(('train_score', 'test_score'))\n",
    "plt.xlabel('train_size')\n",
    "plt.ylabel('score')\n",
    "plt.grid(True)\n",
    "plt.show()"
   ]
  },
  {
   "cell_type": "markdown",
   "metadata": {},
   "source": [
    "## 2) RandomForestClassifier"
   ]
  },
  {
   "cell_type": "code",
   "execution_count": 156,
   "metadata": {},
   "outputs": [
    {
     "data": {
      "text/plain": [
       "{'criterion': 'gini',\n",
       " 'max_depth': 7,\n",
       " 'max_features': 'auto',\n",
       " 'n_estimators': 500}"
      ]
     },
     "execution_count": 156,
     "metadata": {},
     "output_type": "execute_result"
    }
   ],
   "source": [
    "from sklearn.ensemble import RandomForestClassifier\n",
    "from sklearn.model_selection import GridSearchCV\n",
    "\n",
    "\n",
    "# Create param grid.\n",
    "param_grid = { \n",
    "    'n_estimators': [200, 500],\n",
    "    'max_features': ['auto', 'sqrt', 'log2'],\n",
    "    'max_depth' : [4,5,6,7,8],\n",
    "    'criterion' :['gini', 'entropy']\n",
    "}\n",
    "\n",
    "CV_rfc = GridSearchCV(estimator=RandomForestClassifier(), param_grid=param_grid, cv= 5)\n",
    "CV_rfc.fit(X_train, y_train)\n",
    "\n",
    "CV_rfc.best_params_"
   ]
  },
  {
   "cell_type": "code",
   "execution_count": 71,
   "metadata": {},
   "outputs": [
    {
     "name": "stdout",
     "output_type": "stream",
     "text": [
      "\u001b[1mTrain score : \u001b[0m 0.9232505643340858\n",
      "\u001b[1mTest score : \u001b[0m 0.9121621621621622\n"
     ]
    }
   ],
   "source": [
    "from sklearn.ensemble import RandomForestClassifier\n",
    "\n",
    "random_model=RandomForestClassifier(n_estimators= 500, criterion='gini',\n",
    "                                    max_depth=7,max_features= 'auto' ,\n",
    "                                    random_state=9)\n",
    "random_model.fit(X_train,y_train)\n",
    "\n",
    "print(color.BOLD+'Train score : '+color.END ,random_model.score(X_train,y_train))\n",
    "print(color.BOLD+'Test score : '+color.END ,random_model.score(X_test,y_test))"
   ]
  },
  {
   "cell_type": "code",
   "execution_count": 26,
   "metadata": {},
   "outputs": [
    {
     "data": {
      "image/png": "[encoded data removed]",
      "text/plain": [
       "<Figure size 432x288 with 2 Axes>"
      ]
     },
     "metadata": {
      "needs_background": "light"
     },
     "output_type": "display_data"
    }
   ],
   "source": [
    "from sklearn.metrics import plot_confusion_matrix\n",
    "\n",
    "\n",
    "plot_confusion_matrix(random_model,X_test,y_test,cmap=plt.cm.Blues);"
   ]
  },
  {
   "cell_type": "code",
   "execution_count": 27,
   "metadata": {},
   "outputs": [
    {
     "name": "stdout",
     "output_type": "stream",
     "text": [
      "              precision    recall  f1-score   support\n",
      "\n",
      "No Epileptic     0.8889    0.9200    0.9042       200\n",
      "   Epileptic     0.9325    0.9057    0.9189       244\n",
      "\n",
      "    accuracy                         0.9122       444\n",
      "   macro avg     0.9107    0.9129    0.9115       444\n",
      "weighted avg     0.9128    0.9122    0.9123       444\n",
      "\n"
     ]
    }
   ],
   "source": [
    "from sklearn.metrics import classification_report\n",
    "\n",
    "y_pred=random_model.predict(X_test)\n",
    "print(classification_report(y_test,y_pred,target_names=['No Epileptic', 'Epileptic'],digits=4))"
   ]
  },
  {
   "cell_type": "code",
   "execution_count": 28,
   "metadata": {},
   "outputs": [
    {
     "data": {
      "image/png": "[encoded data removed]",
      "text/plain": [
       "<Figure size 432x288 with 1 Axes>"
      ]
     },
     "metadata": {},
     "output_type": "display_data"
    },
    {
     "data": {
      "image/png": "[encoded data removed]",
      "text/plain": [
       "<Figure size 432x288 with 1 Axes>"
      ]
     },
     "metadata": {},
     "output_type": "display_data"
    }
   ],
   "source": [
    "from mlxtend.plotting import plot_learning_curves\n",
    "\n",
    "learning_curve_scoring = ['accuracy', 'precision']\n",
    "\n",
    "\n",
    "#print(color.BOLD+color.UNDERLINE+classifier_names[1]+color.END)\n",
    "for scoring_method in learning_curve_scoring:\n",
    "  plot_learning_curves(X_train, y_train, X_test, y_test, random_model, \n",
    "                       train_marker='o', test_marker='^', \n",
    "                       scoring=scoring_method, print_model =False)\n",
    "  if scoring_method in ['accuracy', 'precision']:\n",
    "      plt.ylim(top=1.01)\n",
    "  plt.show()"
   ]
  },
  {
   "cell_type": "code",
   "execution_count": null,
   "metadata": {},
   "outputs": [],
   "source": [
    "from sklearn.model_selection import learning_curve\n",
    "train_size, train_score, test_score = learning_curve(random_model, X_train, y_train, train_sizes=np.linspace(0.1,1,50), cv=10, random_state=3 )\n",
    "plt.plot(train_size, train_score.mean(axis=1), train_size, test_score.mean(axis=1))\n",
    "plt.legend(('train_score', 'test_score'))\n",
    "plt.xlabel('train_size')\n",
    "plt.ylabel('score')\n",
    "plt.grid(True)\n",
    "plt.show()"
   ]
  },
  {
   "cell_type": "markdown",
   "metadata": {},
   "source": [
    "## 3) XGBClassifier"
   ]
  },
  {
   "cell_type": "code",
   "execution_count": null,
   "metadata": {},
   "outputs": [
    {
     "name": "stdout",
     "output_type": "stream",
     "text": [
      "Fitting 5 folds for each of 1458 candidates, totalling 7290 fits\n"
     ]
    },
    {
     "name": "stderr",
     "output_type": "stream",
     "text": [
      "[Parallel(n_jobs=-1)]: Using backend LokyBackend with 4 concurrent workers.\n",
      "[Parallel(n_jobs=-1)]: Done  33 tasks      | elapsed:  1.7min\n",
      "[Parallel(n_jobs=-1)]: Done 154 tasks      | elapsed:  7.6min\n",
      "[Parallel(n_jobs=-1)]: Done 357 tasks      | elapsed: 23.7min\n",
      "[Parallel(n_jobs=-1)]: Done 640 tasks      | elapsed: 32.9min\n",
      "[Parallel(n_jobs=-1)]: Done 1005 tasks      | elapsed: 45.4min\n"
     ]
    }
   ],
   "source": [
    "from xgboost import XGBClassifier\n",
    "from sklearn.model_selection import GridSearchCV\n",
    "\n",
    "estimator = XGBClassifier()\n",
    "\n",
    "param_grid = {\n",
    "    'n_estimators': [400, 700, 1000],\n",
    "    'colsample_bytree': [0.7, 0.8],\n",
    "    'max_depth': [15,20,25],\n",
    "    'reg_alpha': [1.1, 1.2, 1.3],\n",
    "    'reg_lambda': [1.1, 1.2, 1.3],\n",
    "    'subsample': [0.7, 0.8, 0.9],\n",
    "    'learning_rate': [0.1, 0.01, 0.05]\n",
    "}\n",
    "\n",
    "xgb_grid =GridSearchCV(\n",
    "        estimator,\n",
    "        param_grid=param_grid, \n",
    "        cv=5, \n",
    "        n_jobs=-1, \n",
    "        \n",
    "        verbose=2)\n",
    "\n",
    "xgb_grid.fit(X_train,y_train)\n",
    "xgb_grid.best_params_"
   ]
  },
  {
   "cell_type": "code",
   "execution_count": 70,
   "metadata": {},
   "outputs": [
    {
     "name": "stdout",
     "output_type": "stream",
     "text": [
      "[0]\tvalidation_0-error:0.13514\n",
      "[1]\tvalidation_0-error:0.13063\n",
      "[2]\tvalidation_0-error:0.12838\n",
      "[3]\tvalidation_0-error:0.12162\n",
      "[4]\tvalidation_0-error:0.11712\n",
      "[5]\tvalidation_0-error:0.11486\n",
      "[6]\tvalidation_0-error:0.11261\n",
      "[7]\tvalidation_0-error:0.11712\n",
      "[8]\tvalidation_0-error:0.11937\n",
      "[9]\tvalidation_0-error:0.11486\n"
     ]
    },
    {
     "name": "stderr",
     "output_type": "stream",
     "text": [
      "C:\\Users\\User\\anaconda3\\lib\\site-packages\\xgboost\\sklearn.py:1146: UserWarning: The use of label encoder in XGBClassifier is deprecated and will be removed in a future release. To remove this warning, do the following: 1) Pass option use_label_encoder=False when constructing XGBClassifier object; and 2) Encode your labels (y) as integers starting with 0, i.e. 0, 1, 2, ..., [num_class - 1].\n",
      "  warnings.warn(label_encoder_deprecation_msg, UserWarning)\n"
     ]
    },
    {
     "name": "stdout",
     "output_type": "stream",
     "text": [
      "[10]\tvalidation_0-error:0.11486\n",
      "[11]\tvalidation_0-error:0.11261\n",
      "[12]\tvalidation_0-error:0.11712\n",
      "[13]\tvalidation_0-error:0.11712\n",
      "[14]\tvalidation_0-error:0.11712\n",
      "[15]\tvalidation_0-error:0.11261\n",
      "[16]\tvalidation_0-error:0.11486\n",
      "[17]\tvalidation_0-error:0.11036\n",
      "[18]\tvalidation_0-error:0.10360\n",
      "[19]\tvalidation_0-error:0.10135\n",
      "[20]\tvalidation_0-error:0.09910\n",
      "[21]\tvalidation_0-error:0.09910\n",
      "[22]\tvalidation_0-error:0.09685\n",
      "[23]\tvalidation_0-error:0.09910\n",
      "[24]\tvalidation_0-error:0.09685\n",
      "[25]\tvalidation_0-error:0.09685\n",
      "[26]\tvalidation_0-error:0.09910\n",
      "[27]\tvalidation_0-error:0.09685\n",
      "[28]\tvalidation_0-error:0.09910\n",
      "[29]\tvalidation_0-error:0.09459\n",
      "[30]\tvalidation_0-error:0.09234\n",
      "[31]\tvalidation_0-error:0.09234\n",
      "[32]\tvalidation_0-error:0.09009\n",
      "[33]\tvalidation_0-error:0.09234\n",
      "[34]\tvalidation_0-error:0.09234\n",
      "\u001b[1mTrain score\u001b[0m 0.9294582392776524\n",
      "\u001b[1mTest score\u001b[0m 0.9099099099099099\n"
     ]
    },
    {
     "name": "stderr",
     "output_type": "stream",
     "text": [
      "C:\\Users\\User\\anaconda3\\lib\\site-packages\\xgboost\\data.py:112: UserWarning: Use subset (sliced data) of np.ndarray is not recommended because it will generate extra copies and increase memory consumption\n",
      "  warnings.warn(\n"
     ]
    }
   ],
   "source": [
    "from xgboost import XGBClassifier\n",
    "\n",
    "xgb_model=XGBClassifier(max_depth=5,n_estimators=35,learning_rate=0.1)\n",
    "\n",
    "eval_set = [(X_test, y_test)]\n",
    "\n",
    "xgb_model.fit(X_train,y_train,early_stopping_rounds=50, eval_metric=[\"error\"],\n",
    "              eval_set=eval_set, verbose=True)\n",
    "\n",
    "print(color.BOLD+'Train score'+color.END,xgb_model.score(X_train,y_train))\n",
    "print(color.BOLD+'Test score'+color.END,xgb_model.score(X_test,y_test))"
   ]
  },
  {
   "cell_type": "code",
   "execution_count": 48,
   "metadata": {},
   "outputs": [
    {
     "data": {
      "image/png": "[encoded data removed]",
      "text/plain": [
       "<Figure size 432x288 with 2 Axes>"
      ]
     },
     "metadata": {
      "needs_background": "light"
     },
     "output_type": "display_data"
    }
   ],
   "source": [
    "from sklearn.metrics import plot_confusion_matrix\n",
    "\n",
    "\n",
    "plot_confusion_matrix(xgb_model,X_test,y_test,cmap=plt.cm.Blues);"
   ]
  },
  {
   "cell_type": "code",
   "execution_count": 51,
   "metadata": {},
   "outputs": [
    {
     "name": "stdout",
     "output_type": "stream",
     "text": [
      "              precision    recall  f1-score   support\n",
      "\n",
      "No Epileptic     0.8846    0.9200    0.9020       200\n",
      "   Epileptic     0.9322    0.9016    0.9167       244\n",
      "\n",
      "    accuracy                         0.9099       444\n",
      "   macro avg     0.9084    0.9108    0.9093       444\n",
      "weighted avg     0.9108    0.9099    0.9100       444\n",
      "\n"
     ]
    }
   ],
   "source": [
    "from sklearn.metrics import classification_report\n",
    "\n",
    "y_pred=xgb_model.predict(X_test)\n",
    "print(classification_report(y_test,y_pred,target_names=['No Epileptic', 'Epileptic'],digits=4))"
   ]
  },
  {
   "cell_type": "code",
   "execution_count": 52,
   "metadata": {},
   "outputs": [
    {
     "name": "stdout",
     "output_type": "stream",
     "text": [
      "[12:49:06] WARNING: C:/Users/Administrator/workspace/xgboost-win64_release_1.4.0/src/learner.cc:1095: Starting in XGBoost 1.3.0, the default evaluation metric used with the objective 'binary:logistic' was changed from 'error' to 'logloss'. Explicitly set eval_metric if you'd like to restore the old behavior.\n",
      "[12:49:06] WARNING: C:/Users/Administrator/workspace/xgboost-win64_release_1.4.0/src/learner.cc:1095: Starting in XGBoost 1.3.0, the default evaluation metric used with the objective 'binary:logistic' was changed from 'error' to 'logloss'. Explicitly set eval_metric if you'd like to restore the old behavior.\n",
      "[12:49:06] WARNING: C:/Users/Administrator/workspace/xgboost-win64_release_1.4.0/src/learner.cc:1095: Starting in XGBoost 1.3.0, the default evaluation metric used with the objective 'binary:logistic' was changed from 'error' to 'logloss'. Explicitly set eval_metric if you'd like to restore the old behavior.\n",
      "[12:49:07] WARNING: C:/Users/Administrator/workspace/xgboost-win64_release_1.4.0/src/learner.cc:1095: Starting in XGBoost 1.3.0, the default evaluation metric used with the objective 'binary:logistic' was changed from 'error' to 'logloss'. Explicitly set eval_metric if you'd like to restore the old behavior.\n",
      "[12:49:07] WARNING: C:/Users/Administrator/workspace/xgboost-win64_release_1.4.0/src/learner.cc:1095: Starting in XGBoost 1.3.0, the default evaluation metric used with the objective 'binary:logistic' was changed from 'error' to 'logloss'. Explicitly set eval_metric if you'd like to restore the old behavior.\n",
      "[12:49:07] WARNING: C:/Users/Administrator/workspace/xgboost-win64_release_1.4.0/src/learner.cc:1095: Starting in XGBoost 1.3.0, the default evaluation metric used with the objective 'binary:logistic' was changed from 'error' to 'logloss'. Explicitly set eval_metric if you'd like to restore the old behavior.\n",
      "[12:49:07] WARNING: C:/Users/Administrator/workspace/xgboost-win64_release_1.4.0/src/learner.cc:1095: Starting in XGBoost 1.3.0, the default evaluation metric used with the objective 'binary:logistic' was changed from 'error' to 'logloss'. Explicitly set eval_metric if you'd like to restore the old behavior.\n",
      "[12:49:07] WARNING: C:/Users/Administrator/workspace/xgboost-win64_release_1.4.0/src/learner.cc:1095: Starting in XGBoost 1.3.0, the default evaluation metric used with the objective 'binary:logistic' was changed from 'error' to 'logloss'. Explicitly set eval_metric if you'd like to restore the old behavior.\n",
      "[12:49:08] WARNING: C:/Users/Administrator/workspace/xgboost-win64_release_1.4.0/src/learner.cc:1095: Starting in XGBoost 1.3.0, the default evaluation metric used with the objective 'binary:logistic' was changed from 'error' to 'logloss'. Explicitly set eval_metric if you'd like to restore the old behavior.\n",
      "[12:49:08] WARNING: C:/Users/Administrator/workspace/xgboost-win64_release_1.4.0/src/learner.cc:1095: Starting in XGBoost 1.3.0, the default evaluation metric used with the objective 'binary:logistic' was changed from 'error' to 'logloss'. Explicitly set eval_metric if you'd like to restore the old behavior.\n"
     ]
    },
    {
     "data": {
      "image/png": "[encoded data removed]",
      "text/plain": [
       "<Figure size 432x288 with 1 Axes>"
      ]
     },
     "metadata": {},
     "output_type": "display_data"
    },
    {
     "name": "stderr",
     "output_type": "stream",
     "text": [
      "C:\\Users\\User\\anaconda3\\lib\\site-packages\\xgboost\\sklearn.py:1146: UserWarning: The use of label encoder in XGBClassifier is deprecated and will be removed in a future release. To remove this warning, do the following: 1) Pass option use_label_encoder=False when constructing XGBClassifier object; and 2) Encode your labels (y) as integers starting with 0, i.e. 0, 1, 2, ..., [num_class - 1].\n",
      "  warnings.warn(label_encoder_deprecation_msg, UserWarning)\n",
      "C:\\Users\\User\\anaconda3\\lib\\site-packages\\xgboost\\data.py:112: UserWarning: Use subset (sliced data) of np.ndarray is not recommended because it will generate extra copies and increase memory consumption\n",
      "  warnings.warn(\n"
     ]
    },
    {
     "name": "stdout",
     "output_type": "stream",
     "text": [
      "[12:49:08] WARNING: C:/Users/Administrator/workspace/xgboost-win64_release_1.4.0/src/learner.cc:1095: Starting in XGBoost 1.3.0, the default evaluation metric used with the objective 'binary:logistic' was changed from 'error' to 'logloss'. Explicitly set eval_metric if you'd like to restore the old behavior.\n",
      "[12:49:08] WARNING: C:/Users/Administrator/workspace/xgboost-win64_release_1.4.0/src/learner.cc:1095: Starting in XGBoost 1.3.0, the default evaluation metric used with the objective 'binary:logistic' was changed from 'error' to 'logloss'. Explicitly set eval_metric if you'd like to restore the old behavior.\n",
      "[12:49:08] WARNING: C:/Users/Administrator/workspace/xgboost-win64_release_1.4.0/src/learner.cc:1095: Starting in XGBoost 1.3.0, the default evaluation metric used with the objective 'binary:logistic' was changed from 'error' to 'logloss'. Explicitly set eval_metric if you'd like to restore the old behavior.\n",
      "[12:49:09] WARNING: C:/Users/Administrator/workspace/xgboost-win64_release_1.4.0/src/learner.cc:1095: Starting in XGBoost 1.3.0, the default evaluation metric used with the objective 'binary:logistic' was changed from 'error' to 'logloss'. Explicitly set eval_metric if you'd like to restore the old behavior.\n",
      "[12:49:09] WARNING: C:/Users/Administrator/workspace/xgboost-win64_release_1.4.0/src/learner.cc:1095: Starting in XGBoost 1.3.0, the default evaluation metric used with the objective 'binary:logistic' was changed from 'error' to 'logloss'. Explicitly set eval_metric if you'd like to restore the old behavior.\n",
      "[12:49:09] WARNING: C:/Users/Administrator/workspace/xgboost-win64_release_1.4.0/src/learner.cc:1095: Starting in XGBoost 1.3.0, the default evaluation metric used with the objective 'binary:logistic' was changed from 'error' to 'logloss'. Explicitly set eval_metric if you'd like to restore the old behavior.\n",
      "[12:49:09] WARNING: C:/Users/Administrator/workspace/xgboost-win64_release_1.4.0/src/learner.cc:1095: Starting in XGBoost 1.3.0, the default evaluation metric used with the objective 'binary:logistic' was changed from 'error' to 'logloss'. Explicitly set eval_metric if you'd like to restore the old behavior.\n",
      "[12:49:10] WARNING: C:/Users/Administrator/workspace/xgboost-win64_release_1.4.0/src/learner.cc:1095: Starting in XGBoost 1.3.0, the default evaluation metric used with the objective 'binary:logistic' was changed from 'error' to 'logloss'. Explicitly set eval_metric if you'd like to restore the old behavior.\n",
      "[12:49:10] WARNING: C:/Users/Administrator/workspace/xgboost-win64_release_1.4.0/src/learner.cc:1095: Starting in XGBoost 1.3.0, the default evaluation metric used with the objective 'binary:logistic' was changed from 'error' to 'logloss'. Explicitly set eval_metric if you'd like to restore the old behavior.\n",
      "[12:49:10] WARNING: C:/Users/Administrator/workspace/xgboost-win64_release_1.4.0/src/learner.cc:1095: Starting in XGBoost 1.3.0, the default evaluation metric used with the objective 'binary:logistic' was changed from 'error' to 'logloss'. Explicitly set eval_metric if you'd like to restore the old behavior.\n"
     ]
    },
    {
     "data": {
      "image/png": "[encoded data removed]",
      "text/plain": [
       "<Figure size 432x288 with 1 Axes>"
      ]
     },
     "metadata": {},
     "output_type": "display_data"
    }
   ],
   "source": [
    "from mlxtend.plotting import plot_learning_curves\n",
    "\n",
    "learning_curve_scoring = ['accuracy', 'precision']\n",
    "\n",
    "\n",
    "#print(color.BOLD+color.UNDERLINE+classifier_names[1]+color.END)\n",
    "for scoring_method in learning_curve_scoring:\n",
    "  plot_learning_curves(X_train, y_train, X_test, y_test, xgb_model, \n",
    "                       train_marker='o', test_marker='^', \n",
    "                       scoring=scoring_method, print_model =False)\n",
    "  if scoring_method in ['accuracy', 'precision']:\n",
    "      plt.ylim(top=1.01)\n",
    "  plt.show()"
   ]
  },
  {
   "cell_type": "code",
   "execution_count": null,
   "metadata": {},
   "outputs": [],
   "source": []
  },
  {
   "cell_type": "markdown",
   "metadata": {},
   "source": [
    "## 4) Support Vector Machine (SVM)"
   ]
  },
  {
   "cell_type": "code",
   "execution_count": null,
   "metadata": {},
   "outputs": [],
   "source": [
    "from sklearn import svm\n",
    "from sklearn.model_selection import GridSearchCV\n",
    "\n",
    "# Set the parameters by cross-validation\n",
    "param_grid = {'C': [0.1, 1, 10, 100, 1000], \n",
    "              'gamma': [1, 0.1, 0.01, 0.001, 0.0001],\n",
    "              'kernel': ['rbf','linear', 'poly', 'sigmoid']} \n",
    "  \n",
    "grid = GridSearchCV(svm.SVC(), param_grid, refit = True, verbose = 3)\n",
    "  \n",
    "# fitting the model for grid search\n",
    "grid.fit(X_train, y_train)\n",
    "grid.best_params_"
   ]
  },
  {
   "cell_type": "code",
   "execution_count": 66,
   "metadata": {},
   "outputs": [
    {
     "name": "stdout",
     "output_type": "stream",
     "text": [
      "\u001b[1mTrain score\u001b[0m 0.8910835214446953\n",
      "\u001b[1mTest score\u001b[0m 0.8986486486486487\n"
     ]
    }
   ],
   "source": [
    "from sklearn import svm\n",
    "\n",
    "svm_model=svm.SVC(C=10000,kernel='rbf',gamma=0.1)\n",
    "svm_model.fit(X_train,y_train)\n",
    "\n",
    "print(color.BOLD+'Train score'+color.END,svm_model.score(X_train,y_train))\n",
    "print(color.BOLD+'Test score'+color.END,svm_model.score(X_test,y_test))"
   ]
  },
  {
   "cell_type": "code",
   "execution_count": 67,
   "metadata": {},
   "outputs": [
    {
     "data": {
      "image/png": "[encoded data removed]",
      "text/plain": [
       "<Figure size 432x288 with 2 Axes>"
      ]
     },
     "metadata": {
      "needs_background": "light"
     },
     "output_type": "display_data"
    }
   ],
   "source": [
    "from sklearn.metrics import plot_confusion_matrix\n",
    "\n",
    "\n",
    "plot_confusion_matrix(svm_model,X_test,y_test,cmap=plt.cm.Blues);"
   ]
  },
  {
   "cell_type": "code",
   "execution_count": 68,
   "metadata": {},
   "outputs": [
    {
     "name": "stdout",
     "output_type": "stream",
     "text": [
      "              precision    recall  f1-score   support\n",
      "\n",
      "No Epileptic     0.8708    0.9100    0.8900       200\n",
      "   Epileptic     0.9234    0.8893    0.9061       244\n",
      "\n",
      "    accuracy                         0.8986       444\n",
      "   macro avg     0.8971    0.8997    0.8980       444\n",
      "weighted avg     0.8997    0.8986    0.8988       444\n",
      "\n"
     ]
    }
   ],
   "source": [
    "from sklearn.metrics import classification_report\n",
    "\n",
    "y_pred=svm_model.predict(X_test)\n",
    "print(classification_report(y_test,y_pred,target_names=['No Epileptic', 'Epileptic'],digits=4))"
   ]
  },
  {
   "cell_type": "code",
   "execution_count": 69,
   "metadata": {},
   "outputs": [
    {
     "data": {
      "image/png": "[encoded data removed]",
      "text/plain": [
       "<Figure size 432x288 with 1 Axes>"
      ]
     },
     "metadata": {},
     "output_type": "display_data"
    },
    {
     "data": {
      "image/png": "[encoded data removed]",
      "text/plain": [
       "<Figure size 432x288 with 1 Axes>"
      ]
     },
     "metadata": {},
     "output_type": "display_data"
    }
   ],
   "source": [
    "from mlxtend.plotting import plot_learning_curves\n",
    "\n",
    "learning_curve_scoring = ['accuracy', 'precision']\n",
    "\n",
    "\n",
    "#print(color.BOLD+color.UNDERLINE+classifier_names[1]+color.END)\n",
    "for scoring_method in learning_curve_scoring:\n",
    "  plot_learning_curves(X_train, y_train, X_test, y_test, svm_model, \n",
    "                       train_marker='o', test_marker='^', \n",
    "                       scoring=scoring_method, print_model =False)\n",
    "  if scoring_method in ['accuracy', 'precision']:\n",
    "      plt.ylim(top=1.01)\n",
    "  plt.show()"
   ]
  },
  {
   "cell_type": "markdown",
   "metadata": {},
   "source": [
    "# Summary"
   ]
  },
  {
   "cell_type": "code",
   "execution_count": 90,
   "metadata": {},
   "outputs": [],
   "source": [
    "l=['LogisticRegression','RandomForestClassifier',' XGBClassifier','SVM']\n",
    "train_score = pd.Series([0.8154,0.9232,0.9294,0.8910], index=l)\n",
    "test_score = pd.Series([0.8265,0.9121,0.9099,0.8986], index=l)\n",
    "f1_score_epileptic = pd.Series([0.8010,0.9042,0.9020,0.8900], index=l)\n",
    "f1_score_not_epileptic = pd.Series([0.8463,0.9189,0.9167,0.9061], index=l)\n",
    "accuary = pd.Series([0.8266,0.9122,0.9099,0.8986], index=l)\n"
   ]
  },
  {
   "cell_type": "code",
   "execution_count": 91,
   "metadata": {},
   "outputs": [
    {
     "data": {
      "text/html": [
       "<div>\n",
       "<style scoped>\n",
       "    .dataframe tbody tr th:only-of-type {\n",
       "        vertical-align: middle;\n",
       "    }\n",
       "\n",
       "    .dataframe tbody tr th {\n",
       "        vertical-align: top;\n",
       "    }\n",
       "\n",
       "    .dataframe thead th {\n",
       "        text-align: right;\n",
       "    }\n",
       "</style>\n",
       "<table border=\"1\" class=\"dataframe\">\n",
       "  <thead>\n",
       "    <tr style=\"text-align: right;\">\n",
       "      <th></th>\n",
       "      <th>train_score</th>\n",
       "      <th>test_score</th>\n",
       "      <th>f1_score_epileptic</th>\n",
       "      <th>f1_score_not_epileptic</th>\n",
       "      <th>accuary</th>\n",
       "    </tr>\n",
       "  </thead>\n",
       "  <tbody>\n",
       "    <tr>\n",
       "      <th>LogisticRegression</th>\n",
       "      <td>0.8154</td>\n",
       "      <td>0.8265</td>\n",
       "      <td>0.8010</td>\n",
       "      <td>0.8463</td>\n",
       "      <td>0.8266</td>\n",
       "    </tr>\n",
       "    <tr>\n",
       "      <th>RandomForestClassifier</th>\n",
       "      <td>0.9232</td>\n",
       "      <td>0.9121</td>\n",
       "      <td>0.9042</td>\n",
       "      <td>0.9189</td>\n",
       "      <td>0.9122</td>\n",
       "    </tr>\n",
       "    <tr>\n",
       "      <th>XGBClassifier</th>\n",
       "      <td>0.9294</td>\n",
       "      <td>0.9099</td>\n",
       "      <td>0.9020</td>\n",
       "      <td>0.9167</td>\n",
       "      <td>0.9099</td>\n",
       "    </tr>\n",
       "    <tr>\n",
       "      <th>SVM</th>\n",
       "      <td>0.8910</td>\n",
       "      <td>0.8986</td>\n",
       "      <td>0.8900</td>\n",
       "      <td>0.9061</td>\n",
       "      <td>0.8986</td>\n",
       "    </tr>\n",
       "  </tbody>\n",
       "</table>\n",
       "</div>"
      ],
      "text/plain": [
       "                        train_score  test_score   f1_score_epileptic  \\\n",
       "LogisticRegression           0.8154       0.8265              0.8010   \n",
       "RandomForestClassifier       0.9232       0.9121              0.9042   \n",
       " XGBClassifier               0.9294       0.9099              0.9020   \n",
       "SVM                          0.8910       0.8986              0.8900   \n",
       "\n",
       "                        f1_score_not_epileptic  accuary  \n",
       "LogisticRegression                      0.8463   0.8266  \n",
       "RandomForestClassifier                  0.9189   0.9122  \n",
       " XGBClassifier                          0.9167   0.9099  \n",
       "SVM                                     0.9061   0.8986  "
      ]
     },
     "execution_count": 91,
     "metadata": {},
     "output_type": "execute_result"
    }
   ],
   "source": [
    "stat = pd.DataFrame({'train_score': train_score,\n",
    "                    'test_score ' : test_score,\n",
    "                    'f1_score_epileptic': f1_score_epileptic,\n",
    "                    'f1_score_not_epileptic': f1_score_not_epileptic ,\n",
    "                   'accuary': accuary}\n",
    "                   )\n",
    "stat"
   ]
  },
  {
   "cell_type": "code",
   "execution_count": null,
   "metadata": {},
   "outputs": [],
   "source": []
  }
 ],
 "metadata": {
  "kernelspec": {
   "display_name": "Python 3",
   "language": "python",
   "name": "python3"
  },
  "language_info": {
   "codemirror_mode": {
    "name": "ipython",
    "version": 3
   },
   "file_extension": ".py",
   "mimetype": "text/x-python",
   "name": "python",
   "nbconvert_exporter": "python",
   "pygments_lexer": "ipython3",
   "version": "3.8.5"
  }
 },
 "nbformat": 4,
 "nbformat_minor": 4
}

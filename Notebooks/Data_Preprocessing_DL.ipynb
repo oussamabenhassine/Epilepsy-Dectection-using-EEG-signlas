{
 "cells": [
  {
   "cell_type": "markdown",
   "metadata": {
    "id": "xrDfbmKOMNez"
   },
   "source": [
    "# LIBRERIES"
   ]
  },
  {
   "cell_type": "code",
   "execution_count": 1,
   "metadata": {
    "colab": {
     "base_uri": "https://localhost:8080/"
    },
    "id": "LCT_EjJaxYiN",
    "outputId": "77e133f1-163d-4e1a-bd0f-291ca8ce6927"
   },
   "outputs": [],
   "source": [
    "#pip install pyEDFlib"
   ]
  },
  {
   "cell_type": "code",
   "execution_count": 1,
   "metadata": {
    "id": "cy2onbbpxMko"
   },
   "outputs": [],
   "source": [
    "import numpy as np\n",
    "import pyedflib\n",
    "import pandas as pd \n",
    "import scipy.signal\n",
    "from sklearn.model_selection import train_test_split\n",
    "import os.path\n",
    "import pickle\n"
   ]
  },
  {
   "cell_type": "markdown",
   "metadata": {
    "id": "IFpeN0jgMa7J"
   },
   "source": [
    "# Functions"
   ]
  },
  {
   "cell_type": "markdown",
   "metadata": {},
   "source": [
    "* Get the EDF files from a folder "
   ]
  },
  {
   "cell_type": "code",
   "execution_count": 2,
   "metadata": {
    "id": "n249AUS4mt8S"
   },
   "outputs": [],
   "source": [
    "import os\n",
    "import re\n",
    "def filenames(path):# createing list of all file paths\n",
    "    #path='C:/Users/inesb/OneDrive/Desktop/dt'\n",
    "    filenames_list = os.listdir(path=path) ## list of file names in the directory\n",
    "    txt = \".txt\"\n",
    "    edf=\".edf\"\n",
    "    s=0\n",
    "    while(s<len(filenames_list)):\n",
    "        s=0\n",
    "        for x in filenames_list:\n",
    "            if(not re.search(\".*txt$\",x))and(not re.search(\".*edf$\",x)):\n",
    "                filenames_list=filenames_list+[x+'/'+i for i in os.listdir(path+'/'+x)]\n",
    "                filenames_list.remove(x)\n",
    "            else:\n",
    "                s=s+1\n",
    "    l=[path+'/'+i for i in filenames_list if re.search(\".*edf$\",i)]\n",
    "    return(l)\n",
    "    "
   ]
  },
  {
   "cell_type": "markdown",
   "metadata": {},
   "source": [
    "* Get the CSV files from a folder "
   ]
  },
  {
   "cell_type": "code",
   "execution_count": 3,
   "metadata": {
    "id": "sTUv3Jdr84k0"
   },
   "outputs": [],
   "source": [
    "import os\n",
    "import re\n",
    "def filenames_csv(path):# createing list of all file paths\n",
    "    #path='C:/Users/inesb/OneDrive/Desktop/dt'\n",
    "    filenames_list = os.listdir(path=path) ## list of file names in the directory\n",
    "    txt = \".csv\"\n",
    "    s=0\n",
    "    while(s<len(filenames_list)):\n",
    "        s=0\n",
    "        for x in filenames_list:\n",
    "            if(not re.search(\".*csv$\",x)):\n",
    "                filenames_list=filenames_list+[x+'/'+i for i in os.listdir(path+'/'+x)]\n",
    "                filenames_list.remove(x)\n",
    "            else:\n",
    "                s=s+1\n",
    "    l=[path+'/'+i for i in filenames_list if re.search(\".*csv$\",i)]\n",
    "    return(l)\n",
    "    "
   ]
  },
  {
   "cell_type": "code",
   "execution_count": 4,
   "metadata": {
    "id": "Yzsfoq__lZPX"
   },
   "outputs": [],
   "source": [
    "def tuh_data_load(data_file, selected_channels=[]):\n",
    "\n",
    "    try:\n",
    "        f = pyedflib.EdfReader(data_file)\n",
    "        channel_names = f.getSignalLabels()\n",
    "        channel_freq = f.getSampleFrequencies()\n",
    "        \n",
    "        if len(selected_channels) == 0:\n",
    "            selected_channels = channel_names\n",
    "\n",
    "        sigbufs = np.zeros((f.getNSamples()[0],len(selected_channels)))\n",
    "        for i, channel in enumerate(selected_channels):\n",
    "            try:\n",
    "              sigbufs[:, i] = f.readSignal(channel_names.index(channel))\n",
    "            \n",
    "            except:\n",
    "              ValueError\n",
    "             \n",
    "              sigbufs[:, i] = np.nan\n",
    "\n",
    "\n",
    "        df = pd.DataFrame(sigbufs, columns = selected_channels)#.astype('float32')\n",
    "        '''\n",
    "        index_increase = np.linspace(0,\n",
    "                                      len(df)/channel_freq[0],\n",
    "                                      len(df), endpoint=False)\n",
    "\n",
    "       \n",
    "\n",
    "        seconds = index_increase\n",
    "        \n",
    "        df['Time'] = seconds\n",
    "        df = df.set_index('Time')\n",
    "        df.columns.name = 'Channel'\n",
    "        '''\n",
    "       \n",
    "        return df, channel_freq[0]\n",
    "\n",
    "    except:\n",
    "        OSError\n",
    "        return pd.DataFrame(), None\n"
   ]
  },
  {
   "cell_type": "code",
   "execution_count": 33,
   "metadata": {
    "id": "PA2IJ2HLlbqo"
   },
   "outputs": [],
   "source": [
    "def final_df(data):\n",
    "    # renommer les colonnes pour enlever 'eeg' ,'ref' et 'le'\n",
    "    new_column_list = [x.replace('-REF', '').replace('-LE', '').replace('EEG ', '') for x in data]\n",
    "    d={}\n",
    "    for i in range(len(new_column_list)):\n",
    "        d[data.columns[i]]=new_column_list[i]\n",
    "    data.rename(columns = d, inplace = True)\n",
    "    #list des electrodes qu'on va garder\n",
    "    electrode_list=['FP1','FP2','F3','F4','C3','C4','P3','P4','O1','O2','F7','F8','T3','T4','T5','T6','A1','A2','FZ','CZ','PZ','T1','T2']\n",
    "    i=0\n",
    "    dt=pd.DataFrame()\n",
    "    for x in electrode_list:\n",
    "        if(x in data.columns):\n",
    "            dt[x]=data[x]\n",
    "        else:\n",
    "            dt[x]=pd.Series(data.mean(axis=1), data.index)\n",
    "    return dt"
   ]
  },
  {
   "cell_type": "code",
   "execution_count": 43,
   "metadata": {
    "id": "pLl8NQ-yloLz"
   },
   "outputs": [],
   "source": [
    "def id_session(x): #prend un filename\n",
    "    return x.split('/')[-1].split('_')[0], x.split('/')[-1].split('_')[1] #retourne un tuple de l'id du patient et la session\n",
    "def id_file(x):\n",
    "    return x.split('/')[-1].split('.')[0] #retourne un tuple de l'id du patient et la session\n",
    "    \n",
    "def session(a):  #prend un filename\n",
    "    k=[]\n",
    "    for x in l:\n",
    "        id_x=id_session(x)[0]\n",
    "        session_x=id_session(x)[1]\n",
    "        id_a=id_session(a)[0]\n",
    "        session_a=id_session(a)[1]\n",
    "        if(id_x==id_a)and(session_x==session_a):\n",
    "            k.append(x)\n",
    "    return(k) #retourne la list des filenames pour le mm patient dans la mm date\n",
    "def drop_list(list,l): \n",
    "    for x in list:\n",
    "        if(x in l):\n",
    "            l.remove(x) \n",
    "def list_of_sessions(l): #prend la liste des filenames\n",
    "    s=[]\n",
    "    while(len(l)>0):\n",
    "        k=session(l[0])\n",
    "        drop_list(k,l)\n",
    "        s.append(k)\n",
    "    return(s) #retourne list de list grouped by session \n",
    "def list_size_of_sessions(list): #prend unelist des list LL\n",
    "    t=[]\n",
    "    for x in list:\n",
    "        t.append(size_of_session(x))\n",
    "    return(t) #retourne la list des taille des sessions\n",
    "def size_of_session(list): #prend une list des fichier pour une seul session\n",
    "    s=0\n",
    "    for x in list:\n",
    "        f=pyedflib.EdfReader(x)   \n",
    "        s=s+f.getFileDuration()\n",
    "    return(s) #retourne la taille de la session"
   ]
  },
  {
   "cell_type": "code",
   "execution_count": 7,
   "metadata": {
    "id": "BO7N8rmttv-K"
   },
   "outputs": [],
   "source": [
    "def to_csv_session(data,file,destination_diractory):#converting all edf files in filenames to csv files\n",
    "    data.to_csv('C:/Users/Bolbol/Desktop/csv/csv1/'+destination_diractory+'/'+id_session(file)[0]+'_'+id_session(file)[1]+'.csv',index=False)"
   ]
  },
  {
   "cell_type": "code",
   "execution_count": 45,
   "metadata": {},
   "outputs": [],
   "source": [
    "def to_csv_session(data,file,destination_diractory):#converting all edf files in filenames to csv files\n",
    "    data.to_csv('C:/Users/Bolbol/Desktop/csv/csv1/'+destination_diractory+'/'+id_file(file)+'.csv',index=False)"
   ]
  },
  {
   "cell_type": "markdown",
   "metadata": {},
   "source": [
    "* apply the previous methods and make the csv files in the same size by the sampling method"
   ]
  },
  {
   "cell_type": "code",
   "execution_count": 8,
   "metadata": {
    "id": "YTPOsv6Um9Gw"
   },
   "outputs": [],
   "source": [
    "def preprocessing_deep_learning(ll,destination_diractory):\n",
    "  for j in ll:\n",
    "    data,freq=tuh_data_load(j[0])\n",
    "    if len(j)>0:\n",
    "      for x in j[1:]:\n",
    "          dt,fq=tuh_data_load(x)\n",
    "          data=data.append(dt,ignore_index=True)\n",
    "    data=final_df(data)\n",
    "    for i in range(data.shape[0]-1,0,-1):\n",
    "      if (len(data.iloc[i,:].value_counts())==1):\n",
    "          data.drop([i],axis=0,inplace=True)\n",
    "      else:\n",
    "        break\n",
    "    d={}\n",
    "    for i in range(len(data.columns)):\n",
    "        d[i]=data.columns[i]\n",
    "    data=pd.DataFrame(scipy.signal.resample(data,10000))\n",
    "    data.rename(columns = d, inplace = True)\n",
    "    to_csv_session(data,j[0],destination_diractory)\n",
    "  return(data)"
   ]
  },
  {
   "cell_type": "markdown",
   "metadata": {
    "id": "0C9AdQS3MkE-"
   },
   "source": [
    "# Upload Data"
   ]
  },
  {
   "cell_type": "code",
   "execution_count": 9,
   "metadata": {},
   "outputs": [],
   "source": [
    "epil_path='C:/Users/Bolbol/Desktop/edf/epilepsy'\n",
    "no_epil_path='C:/Users/Bolbol/Desktop/edf/no_epilepsy'\n",
    "normal_path='C:/Users/Bolbol/Desktop/normal'"
   ]
  },
  {
   "cell_type": "code",
   "execution_count": 10,
   "metadata": {
    "id": "jm0be_4OmvCS"
   },
   "outputs": [],
   "source": [
    "l=filenames(no_epil_path) "
   ]
  },
  {
   "cell_type": "code",
   "execution_count": 11,
   "metadata": {},
   "outputs": [],
   "source": [
    "ll=[[x] for x in l]"
   ]
  },
  {
   "cell_type": "markdown",
   "metadata": {},
   "source": [
    "* apply this function on the different folder to generate the CSV files"
   ]
  },
  {
   "cell_type": "code",
   "execution_count": 49,
   "metadata": {
    "colab": {
     "base_uri": "https://localhost:8080/",
     "height": 473
    },
    "id": "GIEfwHt0M1eF",
    "outputId": "028d8d4c-4cea-4e15-e96a-935c9c5670e9"
   },
   "outputs": [
    {
     "name": "stdout",
     "output_type": "stream",
     "text": [
      "Wall time: 33min 14s\n"
     ]
    },
    {
     "data": {
      "text/html": [
       "<div>\n",
       "<style scoped>\n",
       "    .dataframe tbody tr th:only-of-type {\n",
       "        vertical-align: middle;\n",
       "    }\n",
       "\n",
       "    .dataframe tbody tr th {\n",
       "        vertical-align: top;\n",
       "    }\n",
       "\n",
       "    .dataframe thead th {\n",
       "        text-align: right;\n",
       "    }\n",
       "</style>\n",
       "<table border=\"1\" class=\"dataframe\">\n",
       "  <thead>\n",
       "    <tr style=\"text-align: right;\">\n",
       "      <th></th>\n",
       "      <th>FP1</th>\n",
       "      <th>FP2</th>\n",
       "      <th>F3</th>\n",
       "      <th>F4</th>\n",
       "      <th>C3</th>\n",
       "      <th>C4</th>\n",
       "      <th>P3</th>\n",
       "      <th>P4</th>\n",
       "      <th>O1</th>\n",
       "      <th>O2</th>\n",
       "      <th>...</th>\n",
       "      <th>T4</th>\n",
       "      <th>T5</th>\n",
       "      <th>T6</th>\n",
       "      <th>A1</th>\n",
       "      <th>A2</th>\n",
       "      <th>FZ</th>\n",
       "      <th>CZ</th>\n",
       "      <th>PZ</th>\n",
       "      <th>T1</th>\n",
       "      <th>T2</th>\n",
       "    </tr>\n",
       "  </thead>\n",
       "  <tbody>\n",
       "    <tr>\n",
       "      <th>0</th>\n",
       "      <td>-6.141774</td>\n",
       "      <td>-8.005050</td>\n",
       "      <td>-0.152656</td>\n",
       "      <td>-5.822752</td>\n",
       "      <td>1.031984</td>\n",
       "      <td>-3.521229</td>\n",
       "      <td>4.754175</td>\n",
       "      <td>-3.187697</td>\n",
       "      <td>7.812343</td>\n",
       "      <td>0.308685</td>\n",
       "      <td>...</td>\n",
       "      <td>-9.987837</td>\n",
       "      <td>3.475613</td>\n",
       "      <td>-6.653595</td>\n",
       "      <td>-8.273686</td>\n",
       "      <td>-8.273686</td>\n",
       "      <td>-3.503099</td>\n",
       "      <td>-1.713277</td>\n",
       "      <td>0.782613</td>\n",
       "      <td>-8.273686</td>\n",
       "      <td>-8.273686</td>\n",
       "    </tr>\n",
       "    <tr>\n",
       "      <th>1</th>\n",
       "      <td>4.401485</td>\n",
       "      <td>2.305695</td>\n",
       "      <td>-1.778911</td>\n",
       "      <td>-0.392569</td>\n",
       "      <td>-7.679845</td>\n",
       "      <td>1.679231</td>\n",
       "      <td>-7.454662</td>\n",
       "      <td>0.021965</td>\n",
       "      <td>-11.252880</td>\n",
       "      <td>-3.061188</td>\n",
       "      <td>...</td>\n",
       "      <td>-1.379767</td>\n",
       "      <td>-18.573719</td>\n",
       "      <td>-1.227512</td>\n",
       "      <td>-1.960426</td>\n",
       "      <td>-1.960426</td>\n",
       "      <td>-0.138360</td>\n",
       "      <td>-0.469057</td>\n",
       "      <td>-2.834978</td>\n",
       "      <td>-1.960426</td>\n",
       "      <td>-1.960426</td>\n",
       "    </tr>\n",
       "    <tr>\n",
       "      <th>2</th>\n",
       "      <td>0.158966</td>\n",
       "      <td>1.633475</td>\n",
       "      <td>-1.130672</td>\n",
       "      <td>1.844515</td>\n",
       "      <td>-3.591373</td>\n",
       "      <td>1.192188</td>\n",
       "      <td>-4.238808</td>\n",
       "      <td>-1.715628</td>\n",
       "      <td>-8.055500</td>\n",
       "      <td>-3.772870</td>\n",
       "      <td>...</td>\n",
       "      <td>3.010396</td>\n",
       "      <td>-11.751660</td>\n",
       "      <td>0.743218</td>\n",
       "      <td>-2.897226</td>\n",
       "      <td>-2.897226</td>\n",
       "      <td>-0.450880</td>\n",
       "      <td>-1.548168</td>\n",
       "      <td>-2.705763</td>\n",
       "      <td>-2.897226</td>\n",
       "      <td>-2.897226</td>\n",
       "    </tr>\n",
       "    <tr>\n",
       "      <th>3</th>\n",
       "      <td>0.712912</td>\n",
       "      <td>4.802733</td>\n",
       "      <td>-4.411403</td>\n",
       "      <td>5.600605</td>\n",
       "      <td>-2.095665</td>\n",
       "      <td>4.220297</td>\n",
       "      <td>0.665957</td>\n",
       "      <td>-0.450760</td>\n",
       "      <td>-0.930923</td>\n",
       "      <td>-2.609490</td>\n",
       "      <td>...</td>\n",
       "      <td>9.071470</td>\n",
       "      <td>2.937002</td>\n",
       "      <td>4.168023</td>\n",
       "      <td>0.172859</td>\n",
       "      <td>0.172859</td>\n",
       "      <td>-1.103456</td>\n",
       "      <td>-1.690891</td>\n",
       "      <td>-2.313637</td>\n",
       "      <td>0.172859</td>\n",
       "      <td>0.172859</td>\n",
       "    </tr>\n",
       "    <tr>\n",
       "      <th>4</th>\n",
       "      <td>3.590340</td>\n",
       "      <td>7.980073</td>\n",
       "      <td>-3.488876</td>\n",
       "      <td>9.346442</td>\n",
       "      <td>-4.127365</td>\n",
       "      <td>8.150362</td>\n",
       "      <td>-2.440509</td>\n",
       "      <td>3.472433</td>\n",
       "      <td>2.771167</td>\n",
       "      <td>2.802155</td>\n",
       "      <td>...</td>\n",
       "      <td>8.431889</td>\n",
       "      <td>2.886276</td>\n",
       "      <td>9.050070</td>\n",
       "      <td>0.332116</td>\n",
       "      <td>0.332116</td>\n",
       "      <td>1.089336</td>\n",
       "      <td>-0.301240</td>\n",
       "      <td>-1.630487</td>\n",
       "      <td>0.332116</td>\n",
       "      <td>0.332116</td>\n",
       "    </tr>\n",
       "    <tr>\n",
       "      <th>...</th>\n",
       "      <td>...</td>\n",
       "      <td>...</td>\n",
       "      <td>...</td>\n",
       "      <td>...</td>\n",
       "      <td>...</td>\n",
       "      <td>...</td>\n",
       "      <td>...</td>\n",
       "      <td>...</td>\n",
       "      <td>...</td>\n",
       "      <td>...</td>\n",
       "      <td>...</td>\n",
       "      <td>...</td>\n",
       "      <td>...</td>\n",
       "      <td>...</td>\n",
       "      <td>...</td>\n",
       "      <td>...</td>\n",
       "      <td>...</td>\n",
       "      <td>...</td>\n",
       "      <td>...</td>\n",
       "      <td>...</td>\n",
       "      <td>...</td>\n",
       "    </tr>\n",
       "    <tr>\n",
       "      <th>9995</th>\n",
       "      <td>-6.182387</td>\n",
       "      <td>-8.341379</td>\n",
       "      <td>2.112383</td>\n",
       "      <td>-0.667744</td>\n",
       "      <td>1.750816</td>\n",
       "      <td>1.945701</td>\n",
       "      <td>0.845803</td>\n",
       "      <td>3.174264</td>\n",
       "      <td>2.979063</td>\n",
       "      <td>10.912251</td>\n",
       "      <td>...</td>\n",
       "      <td>4.674353</td>\n",
       "      <td>3.592129</td>\n",
       "      <td>10.902596</td>\n",
       "      <td>-8.053491</td>\n",
       "      <td>-8.053491</td>\n",
       "      <td>-1.894828</td>\n",
       "      <td>-2.365545</td>\n",
       "      <td>1.226179</td>\n",
       "      <td>-8.053491</td>\n",
       "      <td>-8.053491</td>\n",
       "    </tr>\n",
       "    <tr>\n",
       "      <th>9996</th>\n",
       "      <td>-7.655952</td>\n",
       "      <td>-9.446406</td>\n",
       "      <td>1.155977</td>\n",
       "      <td>-3.524284</td>\n",
       "      <td>3.077201</td>\n",
       "      <td>0.977843</td>\n",
       "      <td>-0.317678</td>\n",
       "      <td>-3.463768</td>\n",
       "      <td>-9.244469</td>\n",
       "      <td>-4.641768</td>\n",
       "      <td>...</td>\n",
       "      <td>0.123567</td>\n",
       "      <td>0.126575</td>\n",
       "      <td>1.520148</td>\n",
       "      <td>-13.869628</td>\n",
       "      <td>-13.869628</td>\n",
       "      <td>-3.173736</td>\n",
       "      <td>-2.223620</td>\n",
       "      <td>-1.863926</td>\n",
       "      <td>-13.869628</td>\n",
       "      <td>-13.869628</td>\n",
       "    </tr>\n",
       "    <tr>\n",
       "      <th>9997</th>\n",
       "      <td>-9.223568</td>\n",
       "      <td>-11.908804</td>\n",
       "      <td>0.024577</td>\n",
       "      <td>-3.076424</td>\n",
       "      <td>-0.850377</td>\n",
       "      <td>-2.054672</td>\n",
       "      <td>-8.677702</td>\n",
       "      <td>-16.310852</td>\n",
       "      <td>-25.445979</td>\n",
       "      <td>-25.374826</td>\n",
       "      <td>...</td>\n",
       "      <td>-12.217477</td>\n",
       "      <td>-11.139822</td>\n",
       "      <td>-15.601005</td>\n",
       "      <td>-22.530938</td>\n",
       "      <td>-22.530938</td>\n",
       "      <td>-1.323135</td>\n",
       "      <td>-1.841170</td>\n",
       "      <td>-7.697954</td>\n",
       "      <td>-22.530938</td>\n",
       "      <td>-22.530938</td>\n",
       "    </tr>\n",
       "    <tr>\n",
       "      <th>9998</th>\n",
       "      <td>-14.018738</td>\n",
       "      <td>-15.596463</td>\n",
       "      <td>-2.944443</td>\n",
       "      <td>-5.202387</td>\n",
       "      <td>0.243380</td>\n",
       "      <td>-1.349087</td>\n",
       "      <td>3.646417</td>\n",
       "      <td>1.541602</td>\n",
       "      <td>12.419638</td>\n",
       "      <td>13.956707</td>\n",
       "      <td>...</td>\n",
       "      <td>1.221078</td>\n",
       "      <td>10.055500</td>\n",
       "      <td>9.429634</td>\n",
       "      <td>-15.894972</td>\n",
       "      <td>-15.894972</td>\n",
       "      <td>-6.180766</td>\n",
       "      <td>-1.884439</td>\n",
       "      <td>4.639460</td>\n",
       "      <td>-15.894972</td>\n",
       "      <td>-15.894972</td>\n",
       "    </tr>\n",
       "    <tr>\n",
       "      <th>9999</th>\n",
       "      <td>-13.415339</td>\n",
       "      <td>-16.343640</td>\n",
       "      <td>-1.630253</td>\n",
       "      <td>-3.570958</td>\n",
       "      <td>1.500403</td>\n",
       "      <td>-0.706825</td>\n",
       "      <td>8.755207</td>\n",
       "      <td>9.075059</td>\n",
       "      <td>30.259906</td>\n",
       "      <td>29.234125</td>\n",
       "      <td>...</td>\n",
       "      <td>-2.546311</td>\n",
       "      <td>19.607074</td>\n",
       "      <td>17.245012</td>\n",
       "      <td>-13.942381</td>\n",
       "      <td>-13.942381</td>\n",
       "      <td>-2.716608</td>\n",
       "      <td>-1.673218</td>\n",
       "      <td>8.140238</td>\n",
       "      <td>-13.942381</td>\n",
       "      <td>-13.942381</td>\n",
       "    </tr>\n",
       "  </tbody>\n",
       "</table>\n",
       "<p>10000 rows × 23 columns</p>\n",
       "</div>"
      ],
      "text/plain": [
       "            FP1        FP2        F3        F4        C3        C4        P3  \\\n",
       "0     -6.141774  -8.005050 -0.152656 -5.822752  1.031984 -3.521229  4.754175   \n",
       "1      4.401485   2.305695 -1.778911 -0.392569 -7.679845  1.679231 -7.454662   \n",
       "2      0.158966   1.633475 -1.130672  1.844515 -3.591373  1.192188 -4.238808   \n",
       "3      0.712912   4.802733 -4.411403  5.600605 -2.095665  4.220297  0.665957   \n",
       "4      3.590340   7.980073 -3.488876  9.346442 -4.127365  8.150362 -2.440509   \n",
       "...         ...        ...       ...       ...       ...       ...       ...   \n",
       "9995  -6.182387  -8.341379  2.112383 -0.667744  1.750816  1.945701  0.845803   \n",
       "9996  -7.655952  -9.446406  1.155977 -3.524284  3.077201  0.977843 -0.317678   \n",
       "9997  -9.223568 -11.908804  0.024577 -3.076424 -0.850377 -2.054672 -8.677702   \n",
       "9998 -14.018738 -15.596463 -2.944443 -5.202387  0.243380 -1.349087  3.646417   \n",
       "9999 -13.415339 -16.343640 -1.630253 -3.570958  1.500403 -0.706825  8.755207   \n",
       "\n",
       "             P4         O1         O2  ...         T4         T5         T6  \\\n",
       "0     -3.187697   7.812343   0.308685  ...  -9.987837   3.475613  -6.653595   \n",
       "1      0.021965 -11.252880  -3.061188  ...  -1.379767 -18.573719  -1.227512   \n",
       "2     -1.715628  -8.055500  -3.772870  ...   3.010396 -11.751660   0.743218   \n",
       "3     -0.450760  -0.930923  -2.609490  ...   9.071470   2.937002   4.168023   \n",
       "4      3.472433   2.771167   2.802155  ...   8.431889   2.886276   9.050070   \n",
       "...         ...        ...        ...  ...        ...        ...        ...   \n",
       "9995   3.174264   2.979063  10.912251  ...   4.674353   3.592129  10.902596   \n",
       "9996  -3.463768  -9.244469  -4.641768  ...   0.123567   0.126575   1.520148   \n",
       "9997 -16.310852 -25.445979 -25.374826  ... -12.217477 -11.139822 -15.601005   \n",
       "9998   1.541602  12.419638  13.956707  ...   1.221078  10.055500   9.429634   \n",
       "9999   9.075059  30.259906  29.234125  ...  -2.546311  19.607074  17.245012   \n",
       "\n",
       "             A1         A2        FZ        CZ        PZ         T1         T2  \n",
       "0     -8.273686  -8.273686 -3.503099 -1.713277  0.782613  -8.273686  -8.273686  \n",
       "1     -1.960426  -1.960426 -0.138360 -0.469057 -2.834978  -1.960426  -1.960426  \n",
       "2     -2.897226  -2.897226 -0.450880 -1.548168 -2.705763  -2.897226  -2.897226  \n",
       "3      0.172859   0.172859 -1.103456 -1.690891 -2.313637   0.172859   0.172859  \n",
       "4      0.332116   0.332116  1.089336 -0.301240 -1.630487   0.332116   0.332116  \n",
       "...         ...        ...       ...       ...       ...        ...        ...  \n",
       "9995  -8.053491  -8.053491 -1.894828 -2.365545  1.226179  -8.053491  -8.053491  \n",
       "9996 -13.869628 -13.869628 -3.173736 -2.223620 -1.863926 -13.869628 -13.869628  \n",
       "9997 -22.530938 -22.530938 -1.323135 -1.841170 -7.697954 -22.530938 -22.530938  \n",
       "9998 -15.894972 -15.894972 -6.180766 -1.884439  4.639460 -15.894972 -15.894972  \n",
       "9999 -13.942381 -13.942381 -2.716608 -1.673218  8.140238 -13.942381 -13.942381  \n",
       "\n",
       "[10000 rows x 23 columns]"
      ]
     },
     "execution_count": 49,
     "metadata": {},
     "output_type": "execute_result"
    }
   ],
   "source": [
    "%%time\n",
    "preprocessing_deep_learning(ll,'no_epil_csv')"
   ]
  },
  {
   "cell_type": "markdown",
   "metadata": {
    "id": "T9sDSrAEZAyI"
   },
   "source": [
    "# GENERATING DATA"
   ]
  },
  {
   "cell_type": "code",
   "execution_count": 53,
   "metadata": {},
   "outputs": [],
   "source": [
    "epil_files=filenames_csv('C:/Users/Bolbol/Desktop/csv/csv1/epil_csv')\n",
    "no_epil_files=filenames_csv('C:/Users/Bolbol/Desktop/csv/csv1/no_epil_csv')\n",
    "normal_files=filenames_csv('C:/Users/Bolbol/Desktop/csv/csv1/normal_csv')"
   ]
  },
  {
   "cell_type": "markdown",
   "metadata": {},
   "source": [
    "* add the values of each csv file in a list and associate a target to it"
   ]
  },
  {
   "cell_type": "code",
   "execution_count": 55,
   "metadata": {},
   "outputs": [
    {
     "name": "stdout",
     "output_type": "stream",
     "text": [
      "(2648, 10000, 23)\n",
      "(2648,)\n",
      "Wall time: 2min 19s\n"
     ]
    }
   ],
   "source": [
    "%%time\n",
    "data=[]\n",
    "for i in range(len(epil_files)):\n",
    "  DATA=pd.read_csv(epil_files[i])\n",
    "  a=DATA.values\n",
    "  data.append((a,1))\n",
    "for i in range(len(no_epil_files)):\n",
    "  DATA=pd.read_csv(no_epil_files[i])\n",
    "  a=DATA.values\n",
    "  data.append((a,0))\n",
    "for i in range(len(normal_files)):\n",
    "  DATA=pd.read_csv(normal_files[i])\n",
    "  a=DATA.values\n",
    "  data.append((a,0))\n",
    "X=[]\n",
    "Y=[]\n",
    "for x in data:\n",
    "    X.append(x[0])\n",
    "    Y.append(x[1])\n",
    "X=np.array(X)\n",
    "Y=np.array(Y)\n",
    "print(X.shape)\n",
    "print(Y.shape)"
   ]
  },
  {
   "cell_type": "markdown",
   "metadata": {},
   "source": [
    "* save the variables X et Y in a file using the pickle library"
   ]
  },
  {
   "cell_type": "code",
   "execution_count": 56,
   "metadata": {},
   "outputs": [],
   "source": [
    "variables = [X,Y]\n",
    "fichierSauvegarde = open('C:/Users/Bolbol/Desktop/csv/FINAL',\"wb\")   # path of the destinatuon file\n",
    "pickle.dump(variables, fichierSauvegarde)\n",
    "fichierSauvegarde.close()"
   ]
  }
 ],
 "metadata": {
  "colab": {
   "collapsed_sections": [
    "xrDfbmKOMNez"
   ],
   "name": "Untitled4.ipynb",
   "provenance": []
  },
  "kernelspec": {
   "display_name": "Python 3",
   "language": "python",
   "name": "python3"
  },
  "language_info": {
   "codemirror_mode": {
    "name": "ipython",
    "version": 3
   },
   "file_extension": ".py",
   "mimetype": "text/x-python",
   "name": "python",
   "nbconvert_exporter": "python",
   "pygments_lexer": "ipython3",
   "version": "3.8.5"
  }
 },
 "nbformat": 4,
 "nbformat_minor": 4
}
